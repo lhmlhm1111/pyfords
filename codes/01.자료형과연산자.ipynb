{
 "cells": [
  {
   "cell_type": "markdown",
   "metadata": {},
   "source": [
    "# 01. 자료형과 연산자\n",
    "\n",
    "## Intro\n",
    "\n",
    "파이썬으로 데이터를 다루기 위해 가장 기본적으로 알아야 하는 것이 데이터의 형태입니다. 데이터는 숫자, 문자, 배열, 집합, 순서쌍 등 다양한 형태를 가질 수 있습니다. 파이썬에는 몇 가지 기본적인 자료형들이 정의되어 있으며, 각각의 자료형마다 다른 연산과 조작을 할 수 있습니다. 이번 장의 목표는 **내가 다루는 데이터가 어떤 형태인지를 알고, 자료형에 맞는 연산과 조작을 할 수 있는 능력**을 키우는 것입니다.\n",
    "\n",
    "### 기본적인 파이썬 자료형\n",
    "\n",
    "다음은 파이썬에서 사용되는 기본적인 자료형들의 예시입니다. 자세한 내용은 앞으로 차근차근 다룰 예정이니 눈으로만 봐두시면 됩니다. # 표시가 붙은 부분은 코드에 대한 주석으로, 실제 실행되는 파이썬 코드가 아닙니다."
   ]
  },
  {
   "cell_type": "markdown",
   "metadata": {},
   "source": [
    "**1. 숫자: 정수와 소수**"
   ]
  },
  {
   "cell_type": "code",
   "execution_count": 140,
   "metadata": {},
   "outputs": [
    {
     "data": {
      "text/plain": [
       "365"
      ]
     },
     "execution_count": 140,
     "metadata": {},
     "output_type": "execute_result"
    }
   ],
   "source": [
    "365 # 정수"
   ]
  },
  {
   "cell_type": "code",
   "execution_count": 141,
   "metadata": {},
   "outputs": [
    {
     "data": {
      "text/plain": [
       "3.14"
      ]
     },
     "execution_count": 141,
     "metadata": {},
     "output_type": "execute_result"
    }
   ],
   "source": [
    "3.14 # 소수"
   ]
  },
  {
   "cell_type": "code",
   "execution_count": 142,
   "metadata": {},
   "outputs": [
    {
     "data": {
      "text/plain": [
       "1.25"
      ]
     },
     "execution_count": 142,
     "metadata": {},
     "output_type": "execute_result"
    }
   ],
   "source": [
    "1.25 #소수"
   ]
  },
  {
   "cell_type": "markdown",
   "metadata": {},
   "source": [
    "**2. 문자열: 따옴표로 감싼 문자들의 배열**"
   ]
  },
  {
   "cell_type": "code",
   "execution_count": 143,
   "metadata": {},
   "outputs": [
    {
     "data": {
      "text/plain": [
       "'Hello world!'"
      ]
     },
     "execution_count": 143,
     "metadata": {},
     "output_type": "execute_result"
    }
   ],
   "source": [
    "'Hello world!'"
   ]
  },
  {
   "cell_type": "code",
   "execution_count": 144,
   "metadata": {},
   "outputs": [
    {
     "data": {
      "text/plain": [
       "'DataScience Lab'"
      ]
     },
     "execution_count": 144,
     "metadata": {},
     "output_type": "execute_result"
    }
   ],
   "source": [
    "\"DataScience Lab\""
   ]
  },
  {
   "cell_type": "markdown",
   "metadata": {},
   "source": [
    "**3. 불(bool): 참거짓**"
   ]
  },
  {
   "cell_type": "code",
   "execution_count": 145,
   "metadata": {},
   "outputs": [
    {
     "data": {
      "text/plain": [
       "True"
      ]
     },
     "execution_count": 145,
     "metadata": {},
     "output_type": "execute_result"
    }
   ],
   "source": [
    "True"
   ]
  },
  {
   "cell_type": "code",
   "execution_count": 146,
   "metadata": {},
   "outputs": [
    {
     "data": {
      "text/plain": [
       "False"
      ]
     },
     "execution_count": 146,
     "metadata": {},
     "output_type": "execute_result"
    }
   ],
   "source": [
    "False"
   ]
  },
  {
   "cell_type": "markdown",
   "metadata": {},
   "source": [
    "**4. 리스트: 대괄호 `[]`로 감싼 배열**    "
   ]
  },
  {
   "cell_type": "code",
   "execution_count": 147,
   "metadata": {},
   "outputs": [
    {
     "data": {
      "text/plain": [
       "[1.1, 2.2, 3.3, 4.4, 5.5]"
      ]
     },
     "execution_count": 147,
     "metadata": {},
     "output_type": "execute_result"
    }
   ],
   "source": [
    "[1.1, 2.2, 3.3, 4.4, 5.5]"
   ]
  },
  {
   "cell_type": "code",
   "execution_count": 148,
   "metadata": {},
   "outputs": [
    {
     "data": {
      "text/plain": [
       "['a', 'b', 'c', 'd']"
      ]
     },
     "execution_count": 148,
     "metadata": {},
     "output_type": "execute_result"
    }
   ],
   "source": [
    "[\"a\",\"b\",\"c\",\"d\"]"
   ]
  },
  {
   "cell_type": "markdown",
   "metadata": {},
   "source": [
    "**5. 튜플: 소괄호 `()`로 감싼 배열**"
   ]
  },
  {
   "cell_type": "code",
   "execution_count": 149,
   "metadata": {},
   "outputs": [
    {
     "data": {
      "text/plain": [
       "(1, 2, 3, 4, 5)"
      ]
     },
     "execution_count": 149,
     "metadata": {},
     "output_type": "execute_result"
    }
   ],
   "source": [
    "(1,2,3,4,5)"
   ]
  },
  {
   "cell_type": "code",
   "execution_count": 150,
   "metadata": {},
   "outputs": [
    {
     "data": {
      "text/plain": [
       "(True, False, False, True)"
      ]
     },
     "execution_count": 150,
     "metadata": {},
     "output_type": "execute_result"
    }
   ],
   "source": [
    "(True,False,False,True)"
   ]
  },
  {
   "cell_type": "markdown",
   "metadata": {},
   "source": [
    "**6. 딕셔너리: 중괄호 `{}`로 감싼 키:값**"
   ]
  },
  {
   "cell_type": "code",
   "execution_count": 151,
   "metadata": {},
   "outputs": [
    {
     "data": {
      "text/plain": [
       "{'김연아': '피겨', '손흥민': '축구', '박찬호': '야구'}"
      ]
     },
     "execution_count": 151,
     "metadata": {},
     "output_type": "execute_result"
    }
   ],
   "source": [
    "{\"김연아\":\"피겨\", \"손흥민\":\"축구\", \"박찬호\":\"야구\"}"
   ]
  },
  {
   "cell_type": "code",
   "execution_count": 152,
   "metadata": {},
   "outputs": [
    {
     "data": {
      "text/plain": [
       "{1: '짜장면', 2: '짬뽕'}"
      ]
     },
     "execution_count": 152,
     "metadata": {},
     "output_type": "execute_result"
    }
   ],
   "source": [
    "{1:\"짜장면\", 2:\"짬뽕\"}"
   ]
  },
  {
   "cell_type": "markdown",
   "metadata": {},
   "source": [
    "### 기본적인 함수와 연산자\n",
    "\n",
    "함수/연산자|기능|예시 코드|실행결과\n",
    "---|---|---|---\n",
    "`print()`|대상을 출력|`print(\"Hello world!\")`|`Hello world!`\n",
    "`type()`|대상의 자료형을 반환|`type(5)`|`class <'int'>`\n",
    "`==`|\"두 대상이 같다\"를 판단|`'Python'=='R'`|`False`\n",
    "`!=`|\"두 대상이 같지 않다\"를 판단|`'Python'!='R'`|`True`\n",
    "`=`|왼쪽 변수에 오른쪽 값을 할당|`a=5`|"
   ]
  },
  {
   "cell_type": "code",
   "execution_count": 153,
   "metadata": {},
   "outputs": [
    {
     "name": "stdout",
     "output_type": "stream",
     "text": [
      "Hello world!\n"
     ]
    }
   ],
   "source": [
    "print(\"Hello world!\")"
   ]
  },
  {
   "cell_type": "code",
   "execution_count": 154,
   "metadata": {},
   "outputs": [
    {
     "data": {
      "text/plain": [
       "int"
      ]
     },
     "execution_count": 154,
     "metadata": {},
     "output_type": "execute_result"
    }
   ],
   "source": [
    "type(5)"
   ]
  },
  {
   "cell_type": "code",
   "execution_count": 155,
   "metadata": {},
   "outputs": [
    {
     "data": {
      "text/plain": [
       "False"
      ]
     },
     "execution_count": 155,
     "metadata": {},
     "output_type": "execute_result"
    }
   ],
   "source": [
    "'Python'=='R'"
   ]
  },
  {
   "cell_type": "code",
   "execution_count": 156,
   "metadata": {},
   "outputs": [
    {
     "data": {
      "text/plain": [
       "True"
      ]
     },
     "execution_count": 156,
     "metadata": {},
     "output_type": "execute_result"
    }
   ],
   "source": [
    "'Python'!='R'"
   ]
  },
  {
   "cell_type": "code",
   "execution_count": 157,
   "metadata": {},
   "outputs": [
    {
     "name": "stdout",
     "output_type": "stream",
     "text": [
      "5\n"
     ]
    }
   ],
   "source": [
    "a=5\n",
    "print(a)"
   ]
  },
  {
   "cell_type": "markdown",
   "metadata": {},
   "source": [
    "## 1. 숫자\n",
    "\n",
    "### 1.1. 정수와 소수\n",
    "\n",
    "파이썬의 숫자는 **정수**와 **소수**로 나뉘며, 각각 **`int`**와 **`float`**으로 표기합니다. 아래는 정수 `2`와 소수 `3.14`의 자료형을 확인하는 코드와 결과입니다. `2`의 자료형은  `int`, `3.14`의 자료형은 `float`임을 확인할 수 있습니다."
   ]
  },
  {
   "cell_type": "code",
   "execution_count": 158,
   "metadata": {},
   "outputs": [
    {
     "data": {
      "text/plain": [
       "int"
      ]
     },
     "execution_count": 158,
     "metadata": {},
     "output_type": "execute_result"
    }
   ],
   "source": [
    "type(2)"
   ]
  },
  {
   "cell_type": "code",
   "execution_count": 159,
   "metadata": {},
   "outputs": [
    {
     "data": {
      "text/plain": [
       "float"
      ]
     },
     "execution_count": 159,
     "metadata": {},
     "output_type": "execute_result"
    }
   ],
   "source": [
    "type(3.14)"
   ]
  },
  {
   "cell_type": "markdown",
   "metadata": {},
   "source": [
    "### 1.2 파이썬으로 계산하기\n",
    "\n",
    "숫자들 간에는 정수와 소수 구분 없이 다음의 연산이 가능합니다. 번거롭더라도 최소한 사칙연산 코드는 따라 쳐보면서 파이썬에 익숙해지시기 바랍니다! 사칙연산을 제외한 연산자들은 사용하는 빈도가 많지 않으니, 이런 연산이 있다고만 알아두시면 됩니다.\n",
    "\n",
    "연산자|기능|예시 코드|실행결과|결과의 자료형\n",
    "---|---|---|---|---\n",
    "`a + b`|덧셈|`1+1`|`2`|`int`\n",
    "`a - b`|뺄셈|`3-2.5`|`0.5`|`float`\n",
    "`a * b`|곱셉|`2*4.5`|`9.0`|`float`\n",
    "`a / b`|나눗셈|`0.9/0.3`|`3.0`|`float`\n",
    "`a // b`|나눗셈의 몫|`8//3`|`2`|`int`\n",
    "`a % b`|나눗셈의 나머지|`8%3`|`2`|`int`\n",
    "`a ** b`| a의 b제곱|`5**2`|`25`|`int`"
   ]
  },
  {
   "cell_type": "code",
   "execution_count": 160,
   "metadata": {},
   "outputs": [
    {
     "name": "stdout",
     "output_type": "stream",
     "text": [
      "2\n"
     ]
    }
   ],
   "source": [
    "a = 1+1\n",
    "print(a)"
   ]
  },
  {
   "cell_type": "code",
   "execution_count": 161,
   "metadata": {},
   "outputs": [
    {
     "name": "stdout",
     "output_type": "stream",
     "text": [
      "0.5\n"
     ]
    }
   ],
   "source": [
    "b = 3 - 2.5\n",
    "print(b)"
   ]
  },
  {
   "cell_type": "code",
   "execution_count": 162,
   "metadata": {},
   "outputs": [
    {
     "name": "stdout",
     "output_type": "stream",
     "text": [
      "9.0\n"
     ]
    }
   ],
   "source": [
    "c = 2 * 4.5\n",
    "print(c)"
   ]
  },
  {
   "cell_type": "code",
   "execution_count": 163,
   "metadata": {},
   "outputs": [
    {
     "name": "stdout",
     "output_type": "stream",
     "text": [
      "3.0\n"
     ]
    }
   ],
   "source": [
    "d = 0.9/ 0.3\n",
    "print(d)"
   ]
  },
  {
   "cell_type": "markdown",
   "metadata": {},
   "source": [
    "## 2. 문자열\n",
    "\n",
    "### 2.1. Hello World\n",
    "\n",
    "문자열은 말 그대로 문자들의 나열을 의미하며, `str`로 표기합니다. 작은 따옴표(`''`), 혹은 큰 따옴표(`\"\"`) 안에 원하는 내용을 적어주면 문자열 데이터를 만들 수 있습니다. 둘 중 무엇을 사용하든 상관은 없습니다. 프로그래밍 언어를 배울 때는 `\"Hello World\"`를 출력해보는 것이 관례입니다. 다같이 인사해보세요! `type(\"Hello world\")`을 실행해보면 `\"Hello world\"`의 자료형이 문자열(`str`)임을 확인할 수 있습니다."
   ]
  },
  {
   "cell_type": "code",
   "execution_count": 164,
   "metadata": {},
   "outputs": [
    {
     "name": "stdout",
     "output_type": "stream",
     "text": [
      "Hello world\n"
     ]
    }
   ],
   "source": [
    "print(\"Hello world\")"
   ]
  },
  {
   "cell_type": "code",
   "execution_count": 165,
   "metadata": {},
   "outputs": [
    {
     "data": {
      "text/plain": [
       "str"
      ]
     },
     "execution_count": 165,
     "metadata": {},
     "output_type": "execute_result"
    }
   ],
   "source": [
    "type(\"Hello world\")"
   ]
  },
  {
   "cell_type": "markdown",
   "metadata": {},
   "source": [
    "숫자도 따옴표로 감싸면 문자열이 됩니다. `type(\"365\")`를 실행해본 결과 `\"365\"`는 문자열 데이터입니다. 문자열 `\"365\"`와 숫자 `365`가 같은지 테스트해보면 결과는 '같지 않다' 입니다. `\"365\"`는 문자열이고, `365`는 숫자이기 때문입니다."
   ]
  },
  {
   "cell_type": "code",
   "execution_count": 166,
   "metadata": {},
   "outputs": [
    {
     "data": {
      "text/plain": [
       "str"
      ]
     },
     "execution_count": 166,
     "metadata": {},
     "output_type": "execute_result"
    }
   ],
   "source": [
    "type(\"365\")"
   ]
  },
  {
   "cell_type": "code",
   "execution_count": 167,
   "metadata": {},
   "outputs": [
    {
     "data": {
      "text/plain": [
       "False"
      ]
     },
     "execution_count": 167,
     "metadata": {},
     "output_type": "execute_result"
    }
   ],
   "source": [
    "365 == \"365\""
   ]
  },
  {
   "cell_type": "markdown",
   "metadata": {},
   "source": [
    "### 2.2. 인덱싱 & 슬라이싱\n",
    "\n",
    "문자열은 **문자를 순서대로 나열한 데이터입니다.** 따라서 문자열을 구성하는 하나하나의 문자에 순서대로 번호를 매길 수 있으며, 이 번호를 **인덱스**라고 부릅니다. 아래 그림은 `\"Hello World\"`라는 문자열에 앞쪽부터 번호를 매긴 결과입니다. 파이썬의 인덱스는 0부터 시작하기 때문에, 가장 먼저 나온 문자인 `\"H\"`의 인덱스는 `0`이 됩니다. 그 이후 순차적으로 1, 2, ... 10 까지의 번호가 매겨졌습니다. 공백 역시 문자열에 포함된다는 사실을 유의해주세요!\n",
    "\n",
    "인덱스|0|1|2|3|4|5|6|7|8|9|10\n",
    "---|---|---|---|---|---|---|---|---|---|---|---\n",
    "문자열|H|e|l|l|o| |w|o|r|l|d\n",
    "\n",
    "파이썬의 인덱스는 뒤에서부터 부여할 수도 있습니다. `\"Hello world\"`의 인덱스를 뒤에서부터 매기면 다음과 같습니다. 즉 가장 뒤에서부터 `-1`, `-2`, ... 와 같이 음수 인덱스가 매겨집니다.\n",
    "\n",
    "인덱스|-11|-10|-9|-8|-7|-6|-5|-4|-3|-2|-1\n",
    "---|---|---|---|---|---|---|---|---|---|---|---\n",
    "문자열|H|e|l|l|o| |w|o|r|l|d\n",
    "\n",
    "#### 인덱싱\n",
    "\n",
    "문자열에 부여된 **인덱스를 통해서 개별 문자를 뽑아낼 수 있고, 이것을 인덱싱이라고 합니다.** 비유하면, 여러분과 파이썬이 다음과 같은 대화를 한다고 생각하시면 됩니다.\n",
    "\n",
    "> You: `\"Hello world\"`의 0번 문자를 찾아줘!\n",
    "\n",
    "> Python: `\"Hello world\"`의 0번 문자는 `\"H\"` 입니다.\n",
    "\n",
    "그렇다면 `\"Hello world\"`의 0번 문자를 찾아줘!'라는 명령을 어떻게 파이썬에 전달할 수 있을까요? 문자열 바로 뒤에 대괄호`[]`를 적고, 대괄호 안에 원하는 인덱스 숫자를 넣어주면 됩니다. "
   ]
  },
  {
   "cell_type": "code",
   "execution_count": 168,
   "metadata": {},
   "outputs": [
    {
     "data": {
      "text/plain": [
       "'H'"
      ]
     },
     "execution_count": 168,
     "metadata": {},
     "output_type": "execute_result"
    }
   ],
   "source": [
    "\"Hello world\"[0]"
   ]
  },
  {
   "cell_type": "markdown",
   "metadata": {},
   "source": [
    "예시 코드들을 따라 쳐보면서 인덱싱의 문법에 익숙해지시기 바랍니다. 실행 결과의 자료형은 당연하게도 문자열입니다! 문자열을 먼저 변수에 할당한 후 인덱싱을 하는 것도 가능합니다.\n",
    "\n",
    "문자열|인덱스|예시 코드|결과\n",
    "---|---|---|---\n",
    "`\"Hello world\"`|0|`\"Hello world\"[0]`|`'H'`\n",
    "`\"Python\"`|0|`\"Python\"[0]`|`'P'`\n",
    "`\"DataScience Lab\"`|12|`\"DataScience Lab\"[12]`|`'L'`\n",
    "`\"010-5782-3579\"`|7|`\"010-5782-3579\"[7]`|`'2'`\n",
    "`\"Life is short, you need Python.\"`|-1|`\"Life is short, you need Python.\"[-1]`|`'.'`"
   ]
  },
  {
   "cell_type": "code",
   "execution_count": 169,
   "metadata": {},
   "outputs": [
    {
     "data": {
      "text/plain": [
       "'H'"
      ]
     },
     "execution_count": 169,
     "metadata": {},
     "output_type": "execute_result"
    }
   ],
   "source": [
    "\"Hello world\"[0]"
   ]
  },
  {
   "cell_type": "code",
   "execution_count": 170,
   "metadata": {},
   "outputs": [
    {
     "data": {
      "text/plain": [
       "'P'"
      ]
     },
     "execution_count": 170,
     "metadata": {},
     "output_type": "execute_result"
    }
   ],
   "source": [
    "\"Python\"[0]"
   ]
  },
  {
   "cell_type": "code",
   "execution_count": 171,
   "metadata": {},
   "outputs": [
    {
     "data": {
      "text/plain": [
       "'L'"
      ]
     },
     "execution_count": 171,
     "metadata": {},
     "output_type": "execute_result"
    }
   ],
   "source": [
    "b = \"DataScience Lab\"\n",
    "b[12]"
   ]
  },
  {
   "cell_type": "code",
   "execution_count": 172,
   "metadata": {},
   "outputs": [
    {
     "data": {
      "text/plain": [
       "'2'"
      ]
     },
     "execution_count": 172,
     "metadata": {},
     "output_type": "execute_result"
    }
   ],
   "source": [
    "c = \"010-5782-0000\"\n",
    "c[7]"
   ]
  },
  {
   "cell_type": "code",
   "execution_count": 173,
   "metadata": {},
   "outputs": [
    {
     "data": {
      "text/plain": [
       "'.'"
      ]
     },
     "execution_count": 173,
     "metadata": {},
     "output_type": "execute_result"
    }
   ],
   "source": [
    "d = \"Life is short, you need Python.\"\n",
    "d[-1]"
   ]
  },
  {
   "cell_type": "markdown",
   "metadata": {},
   "source": [
    "#### 슬라이싱\n",
    "\n",
    "슬라이싱은 말 그대로 잘라내기 입니다. 일정 구간에 걸쳐서 인덱싱을 실행한다고 생각하시면 편합니다. 역시 대화로 표현하면 다음과 같습니다.\n",
    "\n",
    "> You: `\"Hello world\"`의 0번부터 4번까지의 문자를 찾아줘!\n",
    "\n",
    "> Python: `\"Hello world\"`의 0번부터 4번까지 문자는 `\"Hello\"` 입니다.\n",
    "\n",
    "슬라이싱을 할 때는, `[a:b]`와 같이 대괄호 안에 구간을 입력해주면 됩니다. 구간을 입력할 때는 주의사항이 있습니다. 예시와 함께 보겠습니다."
   ]
  },
  {
   "cell_type": "code",
   "execution_count": 174,
   "metadata": {},
   "outputs": [
    {
     "data": {
      "text/plain": [
       "'Hell'"
      ]
     },
     "execution_count": 174,
     "metadata": {},
     "output_type": "execute_result"
    }
   ],
   "source": [
    "\"Hello world\"[0:4]"
   ]
  },
  {
   "cell_type": "markdown",
   "metadata": {},
   "source": [
    "`[0:4]`의 구간을 입력했으므로 0, 1, 2, 3, 4번 문자가 출력되어야 할 것 같은데, 이상하게 `'Hell'`까지만 출력되었습니다. 이는 슬라이싱에서 구간 `[a:b]`가 `a` 이상  `b` 미만으로 해석되기 때문입니다. 즉 0번부터 4번까지를 슬라이싱 하려면 구간을 `[0:5]`와 같이 입력해야 합니다. 코드를 수정하면 정상적으로 실행되는 것을 볼 수 있습니다."
   ]
  },
  {
   "cell_type": "code",
   "execution_count": 175,
   "metadata": {},
   "outputs": [
    {
     "data": {
      "text/plain": [
       "'Hello'"
      ]
     },
     "execution_count": 175,
     "metadata": {},
     "output_type": "execute_result"
    }
   ],
   "source": [
    "\"Hello world\"[0:5]"
   ]
  },
  {
   "cell_type": "markdown",
   "metadata": {},
   "source": [
    "슬라이싱의 구간 표현법을 정리하면 다음과 같습니다.\n",
    "\n",
    "구간|설명|예시 코드|실행 결과\n",
    "---|---|---|---\n",
    "`[a:b]`|`a`번 문자부터 `b`번 문자 직전까지 슬라이싱|`'www.naver.com'[4:9]`|`'naver'`\n",
    "`[:]`|문자열의 전 구간을 슬라이싱|`\"Super Awesome Code\"[:]`|`'Super Awesome Code'`\n",
    "`[a:]`|`a`번 문자부터 끝까지 슬라이싱|`\"Avengers: Endgame\"[-7:]`|`'Endgame'`\n",
    "`[:b]`|처음부터 `b`번 문자 직전까지 슬라이싱|`\"서울특별시 서대문구\"[:5]`|`'서울특별시'`"
   ]
  },
  {
   "cell_type": "code",
   "execution_count": 176,
   "metadata": {},
   "outputs": [
    {
     "data": {
      "text/plain": [
       "'naver'"
      ]
     },
     "execution_count": 176,
     "metadata": {},
     "output_type": "execute_result"
    }
   ],
   "source": [
    "'www.naver.com'[4:9]"
   ]
  },
  {
   "cell_type": "code",
   "execution_count": 177,
   "metadata": {},
   "outputs": [
    {
     "data": {
      "text/plain": [
       "'Super Awesome Code'"
      ]
     },
     "execution_count": 177,
     "metadata": {},
     "output_type": "execute_result"
    }
   ],
   "source": [
    "\"Super Awesome Code\"[:]"
   ]
  },
  {
   "cell_type": "code",
   "execution_count": 178,
   "metadata": {},
   "outputs": [
    {
     "data": {
      "text/plain": [
       "'Endgame'"
      ]
     },
     "execution_count": 178,
     "metadata": {},
     "output_type": "execute_result"
    }
   ],
   "source": [
    "\"Avengers: Endgame\"[-7:]"
   ]
  },
  {
   "cell_type": "code",
   "execution_count": 179,
   "metadata": {},
   "outputs": [
    {
     "data": {
      "text/plain": [
       "'서울특별시'"
      ]
     },
     "execution_count": 179,
     "metadata": {},
     "output_type": "execute_result"
    }
   ],
   "source": [
    "\"서울특별시 서대문구\"[:5]"
   ]
  },
  {
   "cell_type": "markdown",
   "metadata": {},
   "source": [
    "### 2.3. 문자열의 메소드\n",
    "\n",
    "메소드는 일종의 함수이며, 대상 뒤에 점 `.`을 찍고 사용할 수 있습니다. 문자열에 사용하는 대표적인 메소드들을 네 가지만 배워 보겠습니다.\n",
    "\n",
    "메소드|기능|예시|결과\n",
    "---|---|---|---\n",
    "`s.strip()`|문자열 양쪽의 공백을 제거|`\"     Hello world      \".strip()`|`\"Hello world\"`\n",
    "`s.replace(교체할 문자, 새 문자)`|문자열 내의 특정 문자를 다른 문자로 교체|`\"You need Python\".replace(\"Python\", \"R\")`|`\"You need Python\"`\n",
    "`s.split(기준문자)`|특정 문자를 기준으로 문자열을 쪼갬|`\"one,two,three,four\".split(\",\")`|`['one','two','three','four]`\n",
    "`\"삽입할문자\".join(s)`|특정 문자열을 삽입|`\"/\".join(\"ABCDE\")`|`\"A,B,C,D,E\"`\n",
    "\n",
    "#### `s.strip()`\n",
    "\n",
    "**`strip()` 메소드는 문자열 양쪽의 공백을 제거합니다. 공백이 몇 개이건 상관없이 모두 제거됩니다.** 문자열 `\"   Hello world   \"`는 양쪽에 공백이 있고, 가운데에도 한 칸의 공백이 있습니다. `\"   Hello world   \"`를 변수 `s`에 할당하고, `s.strip()`을 실행한 결과, 양쪽의 공백만 지워지고 가운데 공백은 잘 남아있는 것을 확인할 수 있습니다. \n",
    "\n",
    "그러나 `s.strip()`을 실행한 후 `s`를 출력해보면 양쪽의 공백이 그대로 남아있습니다. `s.strip()`은 실제로 문자열을 변화시키는 것이 아니라, 변화한 상태를 일시적으로 보여줄 뿐이기 때문입니다. 만약 `s`를 실제로 변화시키고 싶다면, `s=s.strip()`과 같이 다시 할당을 해주어야 합니다. 처음 `s = s.strip()`과 같은 식을 마주하면 당황스러울 것입니다. 하지만 `=`는 같음을 뜻하는 연산자가 아니고, 할당을 뜻하는 연산자입니다. 즉 `s=s.strip()`이라는 코드는 **\"`s.strip()`을 실행하고 이 결과를 `s`에 할당하라\"**는 의미입니다."
   ]
  },
  {
   "cell_type": "code",
   "execution_count": 180,
   "metadata": {},
   "outputs": [
    {
     "data": {
      "text/plain": [
       "'Hello world'"
      ]
     },
     "execution_count": 180,
     "metadata": {},
     "output_type": "execute_result"
    }
   ],
   "source": [
    "s = \"   Hello world   \"\n",
    "s.strip()"
   ]
  },
  {
   "cell_type": "code",
   "execution_count": 181,
   "metadata": {},
   "outputs": [
    {
     "data": {
      "text/plain": [
       "'   Hello world   '"
      ]
     },
     "execution_count": 181,
     "metadata": {},
     "output_type": "execute_result"
    }
   ],
   "source": [
    "s"
   ]
  },
  {
   "cell_type": "code",
   "execution_count": 182,
   "metadata": {},
   "outputs": [
    {
     "data": {
      "text/plain": [
       "'Hello world'"
      ]
     },
     "execution_count": 182,
     "metadata": {},
     "output_type": "execute_result"
    }
   ],
   "source": [
    "s = s.strip()\n",
    "s"
   ]
  },
  {
   "cell_type": "markdown",
   "metadata": {},
   "source": [
    "**탭을 의미하는 `\\t` 문자열과 개행을 의미하는 `\\n` 문자열 역시 공백으로 인식됩니다.** `\\t` 와 `\\n`을 사용한 공백은 웹 문서를 크롤링해서 작업할 때 자주 볼 수 있습니다. 아래 예제에서는 왼쪽에 `\\n`, 오른쪽에 `\\t` 세 개를 사용해서 `'Hello world'`를 감싸주었습니다. 이 결과를 변수 `s`에 할당하고 `s.strip()`을 실행한 결과, `'Hello world'`만 남아있는 것을 확인할 수 있습니다. `\\t`와 `\\n`이 공백으로 인식되어 지워졌기 때문입니다."
   ]
  },
  {
   "cell_type": "code",
   "execution_count": 183,
   "metadata": {},
   "outputs": [
    {
     "name": "stdout",
     "output_type": "stream",
     "text": [
      "Hello world\n"
     ]
    }
   ],
   "source": [
    "s = \"\\n\\n\\nHello world\\t\\t\\t\"\n",
    "s = s.strip()\n",
    "print(s)"
   ]
  },
  {
   "cell_type": "markdown",
   "metadata": {},
   "source": [
    "#### `s.replace(교체할 문자, 새 문자)`\n",
    "\n",
    "**`replace()` 메소드는 문자열 내의 특정 문자를 다른 문자로 모두 교체합니다.** 아래는 `\"You need Python\"` 에서 `\"Python\"`을 `\"R\"`로 바꾸어준 예제입니다. 먼저 `'You need Python'`라는 문자열을 `s`라는 변수에 할당하였습니다. `s.replace(\"Python\",\"R\")` 은 s에 할당된 문자열 `\"You need Python\"`에서 `'Python'`을 `'R'`로 바꾸어주는 코드입니다. 역시 `s.replace(\"Python\",\"R\")`를 실행하는것만으로는 `s`에 할당된 값이 변화하지 않으며, `s`를 변화시키고 싶다면 `s=s.replace(\"Python\",\"R\")`과 같이 다시 할당을 해주어야 합니다."
   ]
  },
  {
   "cell_type": "code",
   "execution_count": 184,
   "metadata": {},
   "outputs": [
    {
     "data": {
      "text/plain": [
       "'You need R'"
      ]
     },
     "execution_count": 184,
     "metadata": {},
     "output_type": "execute_result"
    }
   ],
   "source": [
    "s = 'You need Python' # 문자열을 변수 s에 할당\n",
    "s.replace(\"Python\", \"R\") # s에서 Python -> R로 교체"
   ]
  },
  {
   "cell_type": "code",
   "execution_count": 185,
   "metadata": {},
   "outputs": [
    {
     "data": {
      "text/plain": [
       "'You need Python'"
      ]
     },
     "execution_count": 185,
     "metadata": {},
     "output_type": "execute_result"
    }
   ],
   "source": [
    "s # s는 변화하지 않음"
   ]
  },
  {
   "cell_type": "code",
   "execution_count": 186,
   "metadata": {},
   "outputs": [
    {
     "data": {
      "text/plain": [
       "'You need R'"
      ]
     },
     "execution_count": 186,
     "metadata": {},
     "output_type": "execute_result"
    }
   ],
   "source": [
    "s = s.replace(\"Python\", \"R\") # Python을 R로 교체한 후 이 결과를 s에 할당\n",
    "s"
   ]
  },
  {
   "cell_type": "code",
   "execution_count": 187,
   "metadata": {},
   "outputs": [
    {
     "data": {
      "text/plain": [
       "'You,need,R'"
      ]
     },
     "execution_count": 187,
     "metadata": {},
     "output_type": "execute_result"
    }
   ],
   "source": [
    "s = s.replace(\" \", \",\") # 모든 \" \"를 \",\"로 교체\n",
    "s "
   ]
  },
  {
   "cell_type": "markdown",
   "metadata": {},
   "source": [
    "#### `s.split(기준문자)`\n",
    "\n",
    "**`split()` 메소드는 특정 문자를 기준으로 문자열을 쪼개어 리스트를 반환합니다.** 아무런 문자도 주어지지 않는다면 공백을 기준으로 문자열을 쪼갭니다. "
   ]
  },
  {
   "cell_type": "code",
   "execution_count": 188,
   "metadata": {},
   "outputs": [
    {
     "data": {
      "text/plain": [
       "['Hello', 'world']"
      ]
     },
     "execution_count": 188,
     "metadata": {},
     "output_type": "execute_result"
    }
   ],
   "source": [
    "s = \"Hello world\"\n",
    "s.split(\" \") # \" \" 를 기준으로 문자열을 쪼갬 > 이 결과를 리스트로 반환"
   ]
  },
  {
   "cell_type": "code",
   "execution_count": 189,
   "metadata": {},
   "outputs": [
    {
     "data": {
      "text/plain": [
       "['one', 'two', 'three', 'four']"
      ]
     },
     "execution_count": 189,
     "metadata": {},
     "output_type": "execute_result"
    }
   ],
   "source": [
    "s = \"one/two/three/four\"\n",
    "s.split(\"/\")"
   ]
  },
  {
   "cell_type": "markdown",
   "metadata": {},
   "source": [
    "#### `\"삽입할 문자\".join(s)`\n",
    "\n",
    "**`join()` 메소드는 문자열 사이사이에 다른 문자를 삽입합니다.** "
   ]
  },
  {
   "cell_type": "code",
   "execution_count": 190,
   "metadata": {},
   "outputs": [
    {
     "data": {
      "text/plain": [
       "'A|B|C|D|E|F|G'"
      ]
     },
     "execution_count": 190,
     "metadata": {},
     "output_type": "execute_result"
    }
   ],
   "source": [
    "alphabet = \"ABCDEFG\"\n",
    "\"|\".join(alphabet)"
   ]
  },
  {
   "cell_type": "markdown",
   "metadata": {},
   "source": [
    "### 2.3. 예제\n",
    "\n",
    "1. `\"http://yonseidslab.github.io\"` 문자열에서 `yonseidslab` 을 추출하세요.\n",
    "\n",
    "2. \n",
    "\n",
    "3. "
   ]
  },
  {
   "cell_type": "markdown",
   "metadata": {},
   "source": [
    "## 3. 리스트\n",
    "\n",
    "리스트는 `[요소1, 요소2, 요소3, ...]`과 같이 여러 요소들을 묶어놓은 자료형입니다. 각 요소들은 쉼표 `,`로 구분되며, 바깥은 대괄호 `[]`로 감싸줍니다. 리스트는 거의 모든 자료형을 요소로 가질 수 있으며, 요소들의 자료형이 모두 같을 필요도 없습니다. 다음은 모두 리스트의 예시입니다."
   ]
  },
  {
   "cell_type": "code",
   "execution_count": 191,
   "metadata": {},
   "outputs": [
    {
     "data": {
      "text/plain": [
       "[[1, 2, 3], [4, 5, 6]]"
      ]
     },
     "execution_count": 191,
     "metadata": {},
     "output_type": "execute_result"
    }
   ],
   "source": [
    "[]\n",
    "\n",
    "[1,2,3,4,5]\n",
    "\n",
    "['a','b','c','d','e']\n",
    "\n",
    "['a','b',3,4,'d',False]\n",
    "\n",
    "[[1,2,3],[4,5,6]]"
   ]
  },
  {
   "cell_type": "markdown",
   "metadata": {},
   "source": [
    "### 3.1. 리스트 인덱싱 & 슬라이싱\n",
    "\n",
    "리스트는 요소들의 순차적인 배열입니다. 따라서 문자열과 마찬가지로, 각각의 요소들에 번호를 매길 수 있습니다. 번호를 매기는 방식 역시 문자열과 동일합니다. 즉 앞에서부터 `0`, `1`, `2` ... 순으로 인덱스가 붙고, 뒤에서부터 `-1`,`-2`,`-3` ... 순으로 인덱스가 붙습니다. 예를 들어 `[\"Life\", \"is\", \"short\", \"you\", \"need\", \"Python\"]` 과 같은 리스트에 인덱스를 매겨보면 다음과 같습니다.\n",
    "\n",
    "인덱스|0|1|2|3|4|5\n",
    "---|---|---|---|---|---|---\n",
    "요소|\"Life\"|\"is\"|\"short\"|\"you\"|\"need\"|\"Python\"\n",
    "\n",
    "인덱스|-6|-5|-4|-3|-2|-1\n",
    "---|---|---|---|---|---|---\n",
    "요소|\"Life\"|\"is\"|\"short\"|\"you\"|\"need\"|\"Python\"\n",
    "\n",
    "**인덱싱**\n",
    "\n",
    "문자열의 인덱싱과 슬라이싱에 익숙해졌다면, 리스트의 인덱싱과 슬라이싱 역시 어렵지 않을 겁니다. 리스트의 인덱싱 역시 문자열과 마찬가지로 대괄호 `[]`를 사용합니다."
   ]
  },
  {
   "cell_type": "code",
   "execution_count": 192,
   "metadata": {},
   "outputs": [
    {
     "data": {
      "text/plain": [
       "0.5"
      ]
     },
     "execution_count": 192,
     "metadata": {},
     "output_type": "execute_result"
    }
   ],
   "source": [
    "[0.25, 0.5, 0.75, 1.0][1]\n",
    "\n",
    "[\"Life\", \"is\", \"short\", \"you\", \"need\", \"Python\"][-1]\n",
    "\n",
    "[[1,2,3],[4,5,6],[7,8,9],[10,11,12]][2]"
   ]
  }
 ],
 "metadata": {
  "kernelspec": {
   "display_name": "Python 3",
   "language": "python",
   "name": "python3"
  },
  "language_info": {
   "codemirror_mode": {
    "name": "ipython",
    "version": 3
   },
   "file_extension": ".py",
   "mimetype": "text/x-python",
   "name": "python",
   "nbconvert_exporter": "python",
   "pygments_lexer": "ipython3",
   "version": "3.7.4"
  }
 },
 "nbformat": 4,
 "nbformat_minor": 2
}
