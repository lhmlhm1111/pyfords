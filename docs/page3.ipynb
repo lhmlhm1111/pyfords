{
 "cells": [
  {
   "cell_type": "markdown",
   "metadata": {},
   "source": [
    "# 1.넘파이와 판다스\n",
    "- 저자: 2014122007 민형규"
   ]
  },
  {
   "cell_type": "markdown",
   "metadata": {},
   "source": [
    "### A.넘파이(numpy)란?\n",
    "- 파이썬에서 과학계산을 도와주는 패키지  \n",
    "- 다차원 자료구조인 Array를 이용해 여러가지 벡터계산과 브로드캐스팅을 지원\n",
    "- 넘파이의 array는 matlab에서 따온 것\n",
    "\n",
    "### B.판다스(pandas)란?\n",
    "- 넘파이를 기반으로 하여 데이터 사이언스에 적합한 여러가지 기능을 제공\n",
    "- 1차원 자료구조인 Series와 2차원 자료구조인 DataFrame을 지원\n",
    "- DataFrame은 통계 프로그램 언어인 R의 그것에서 따온 것"
   ]
  },
  {
   "cell_type": "markdown",
   "metadata": {},
   "source": [
    "# 2.넘파이 튜토리얼"
   ]
  },
  {
   "cell_type": "code",
   "execution_count": 1,
   "metadata": {},
   "outputs": [],
   "source": [
    "import numpy as np"
   ]
  },
  {
   "cell_type": "markdown",
   "metadata": {},
   "source": [
    "### A.어레이\n",
    "- 내부 원소들의 데이터 타입이 모두 똑같이 고정됨\n",
    "- 수 개의 차원을 표현할 수 있음"
   ]
  },
  {
   "cell_type": "code",
   "execution_count": 2,
   "metadata": {},
   "outputs": [],
   "source": [
    "a = [1,2,3]\n",
    "b = [4,5]\n",
    "c = [6,7,8]"
   ]
  },
  {
   "cell_type": "markdown",
   "metadata": {},
   "source": [
    "##### a.Array 정의"
   ]
  },
  {
   "cell_type": "code",
   "execution_count": 3,
   "metadata": {},
   "outputs": [],
   "source": [
    "aa = np.array(a)\n",
    "bb = np.array([a,b])\n",
    "cc = np.array([a,c])\n",
    "ccc = np.array((cc,cc))"
   ]
  },
  {
   "cell_type": "markdown",
   "metadata": {},
   "source": [
    "##### b.Array 특징"
   ]
  },
  {
   "cell_type": "markdown",
   "metadata": {},
   "source": [
    "1차원 어레이"
   ]
  },
  {
   "cell_type": "code",
   "execution_count": 4,
   "metadata": {},
   "outputs": [
    {
     "name": "stdout",
     "output_type": "stream",
     "text": [
      "[1 2 3]\n",
      "<class 'numpy.ndarray'>\n",
      "(3,)\n",
      "1\n",
      "<class 'numpy.int32'>\n",
      "[5 2 3]\n"
     ]
    }
   ],
   "source": [
    "print(aa)                  # 리스트 모양으로 반환\n",
    "print(type(aa))            # 타입은 여전히 넘파이 어레이\n",
    "print(aa.shape)            # 어레이의 모양 반환\n",
    "print(aa[0])               # Prints \"1 \"\n",
    "print(type(aa[0]))         \n",
    "# 그냥 정수가 아니라 numpy의 32 bit integer로 반환 \n",
    "# base 파이썬에서 호환이 안된다면 str()/int()/float() 등의 명령어로 바꿔 줄 필요 있음\n",
    "aa[0] = 5                  # 원소 한개를 교체해줄 수 도 있음\n",
    "print(aa)               "
   ]
  },
  {
   "cell_type": "markdown",
   "metadata": {},
   "source": [
    "2차원 어레이"
   ]
  },
  {
   "cell_type": "code",
   "execution_count": 5,
   "metadata": {},
   "outputs": [
    {
     "name": "stdout",
     "output_type": "stream",
     "text": [
      "[list([1, 2, 3]) list([4, 5])]\n",
      "[[1 2 3]\n",
      " [6 7 8]]\n",
      "(2,)\n",
      "(2, 3)\n",
      "<class 'list'>\n",
      "<class 'numpy.ndarray'>\n"
     ]
    },
    {
     "data": {
      "text/plain": [
       "array([[5, 5, 5],\n",
       "       [6, 7, 8]])"
      ]
     },
     "execution_count": 5,
     "metadata": {},
     "output_type": "execute_result"
    }
   ],
   "source": [
    "print(bb)                  # 내부 원소의 크기가 다를 시 하나하나를 원소로 파악해 1차원 저장체가 됨\n",
    "print(cc)                  # 내부 원소의 크기가 같을 시 2차원 저장체로써 역할을 함\n",
    "print(bb.shape)            # 어레이의 모양 반환 (1차원)\n",
    "print(cc.shape)            # 어레이의 모양 반환 (2차원)\n",
    "print(type(bb[0]))         # bb의 1번째 원소는 리스트\n",
    "print(type(cc[0]))         # cc의 1번째 원소는 어레이 , 2차원 어레이의 경우 어레이 안에 어레이로써 인식함\n",
    "cc[0] = 5                  # aa와 유사하게 교체해보면?\n",
    "cc                         # ????? -> 브로드 캐스팅(차후)"
   ]
  },
  {
   "cell_type": "markdown",
   "metadata": {},
   "source": [
    "3차원 어레이"
   ]
  },
  {
   "cell_type": "code",
   "execution_count": 33,
   "metadata": {},
   "outputs": [
    {
     "name": "stdout",
     "output_type": "stream",
     "text": [
      "(2, 2, 3)\n"
     ]
    },
    {
     "data": {
      "text/plain": [
       "array([[[1, 2, 3],\n",
       "        [6, 7, 8]],\n",
       "\n",
       "       [[1, 2, 3],\n",
       "        [6, 7, 8]]])"
      ]
     },
     "execution_count": 33,
     "metadata": {},
     "output_type": "execute_result"
    }
   ],
   "source": [
    "print(ccc.shape)\n",
    "ccc"
   ]
  },
  {
   "cell_type": "markdown",
   "metadata": {},
   "source": [
    "차원이 추가 되면 shape의 앞 쪽에 가장 넓은 개념의 차원이 추가됨"
   ]
  },
  {
   "cell_type": "markdown",
   "metadata": {},
   "source": [
    "### B. 어레이 만들기"
   ]
  },
  {
   "cell_type": "code",
   "execution_count": 6,
   "metadata": {},
   "outputs": [],
   "source": [
    "# 0으로 가득찬 행렬 형성 , shape 인수에 튜플 형태로 모양 지정\n",
    "a = np.zeros(shape=(2,2))\n",
    "# 1로 가득찬 행렬 형성 , shape 인수에 튜플 형태로 모양 지정\n",
    "b = np.ones(shape=(1,2)) \n",
    "# 지정된 숫자로 가득찬 행렬 형성 , shape 인수에 튜플 형태로 모양 지정\n",
    "c = np.full(shape=(2,2), fill_value=7) \n",
    "# Identity Matrix 형성\n",
    "d = np.eye(N=2)     \n",
    "# Unif(0,1)의 랜덤 변수가 지정된 행렬 형성\n",
    "e = np.random.random(size=(2,2))  "
   ]
  },
  {
   "cell_type": "markdown",
   "metadata": {},
   "source": [
    "### C. 어레이 인덱싱"
   ]
  },
  {
   "cell_type": "markdown",
   "metadata": {},
   "source": [
    "- 차원의 수 만큼 인덱스를 설정해줄 수 있음\n",
    "- 나머지는 리스트의 그것과 큰 차이가 없음"
   ]
  },
  {
   "cell_type": "code",
   "execution_count": 38,
   "metadata": {},
   "outputs": [
    {
     "data": {
      "text/plain": [
       "array([[6, 7]])"
      ]
     },
     "execution_count": 38,
     "metadata": {},
     "output_type": "execute_result"
    }
   ],
   "source": [
    "cc[1:2,0:2]"
   ]
  },
  {
   "cell_type": "code",
   "execution_count": 39,
   "metadata": {},
   "outputs": [
    {
     "data": {
      "text/plain": [
       "array([[1, 2],\n",
       "       [6, 7]])"
      ]
     },
     "execution_count": 39,
     "metadata": {},
     "output_type": "execute_result"
    }
   ],
   "source": [
    "ccc[1,0:2,0:2]"
   ]
  },
  {
   "cell_type": "markdown",
   "metadata": {},
   "source": [
    "### D. 어레이 연산"
   ]
  },
  {
   "cell_type": "code",
   "execution_count": 41,
   "metadata": {},
   "outputs": [],
   "source": [
    "x = np.array([[1,2],[3,4]], dtype=np.float64)\n",
    "y = np.array([[5,6],[7,8]], dtype=np.float64)"
   ]
  },
  {
   "cell_type": "markdown",
   "metadata": {},
   "source": [
    "#### 사칙연산\n",
    "- 두 어레이의 차원과 모양이 같다면 단순 사칙연산은 같은 위치의 원소를 연산한 결과가 나옴"
   ]
  },
  {
   "cell_type": "code",
   "execution_count": 46,
   "metadata": {},
   "outputs": [
    {
     "data": {
      "text/plain": [
       "array([[ 6.,  8.],\n",
       "       [10., 12.]])"
      ]
     },
     "execution_count": 46,
     "metadata": {},
     "output_type": "execute_result"
    }
   ],
   "source": [
    "x+y"
   ]
  },
  {
   "cell_type": "code",
   "execution_count": 47,
   "metadata": {},
   "outputs": [
    {
     "data": {
      "text/plain": [
       "array([[-4., -4.],\n",
       "       [-4., -4.]])"
      ]
     },
     "execution_count": 47,
     "metadata": {},
     "output_type": "execute_result"
    }
   ],
   "source": [
    "x-y"
   ]
  },
  {
   "cell_type": "code",
   "execution_count": 48,
   "metadata": {},
   "outputs": [
    {
     "data": {
      "text/plain": [
       "array([[0.2       , 0.33333333],\n",
       "       [0.42857143, 0.5       ]])"
      ]
     },
     "execution_count": 48,
     "metadata": {},
     "output_type": "execute_result"
    }
   ],
   "source": [
    "x/y"
   ]
  },
  {
   "cell_type": "code",
   "execution_count": 49,
   "metadata": {},
   "outputs": [
    {
     "data": {
      "text/plain": [
       "array([[ 5., 12.],\n",
       "       [21., 32.]])"
      ]
     },
     "execution_count": 49,
     "metadata": {},
     "output_type": "execute_result"
    }
   ],
   "source": [
    "x*y"
   ]
  },
  {
   "cell_type": "code",
   "execution_count": 51,
   "metadata": {},
   "outputs": [
    {
     "data": {
      "text/plain": [
       "array([[1.        , 1.41421356],\n",
       "       [1.73205081, 2.        ]])"
      ]
     },
     "execution_count": 51,
     "metadata": {},
     "output_type": "execute_result"
    }
   ],
   "source": [
    "np.sqrt(x)\n",
    "#루트"
   ]
  },
  {
   "cell_type": "code",
   "execution_count": 52,
   "metadata": {},
   "outputs": [],
   "source": [
    "v = np.array([9,10])\n",
    "w = np.array([11, 12])"
   ]
  },
  {
   "cell_type": "markdown",
   "metadata": {},
   "source": [
    "#### Dot Product\n",
    "(벡터 내적 / 행렬곱)"
   ]
  },
  {
   "cell_type": "code",
   "execution_count": 57,
   "metadata": {},
   "outputs": [
    {
     "data": {
      "text/plain": [
       "array([[19., 22.],\n",
       "       [43., 50.]])"
      ]
     },
     "execution_count": 57,
     "metadata": {},
     "output_type": "execute_result"
    }
   ],
   "source": [
    "x.dot(y)\n",
    "np.dot(x,y)\n",
    "# x(2*2) . y(2*2) = z(2*2)"
   ]
  },
  {
   "cell_type": "code",
   "execution_count": 58,
   "metadata": {},
   "outputs": [
    {
     "data": {
      "text/plain": [
       "array([29., 67.])"
      ]
     },
     "execution_count": 58,
     "metadata": {},
     "output_type": "execute_result"
    }
   ],
   "source": [
    "x.dot(v)\n",
    "np.dot(x,v)\n",
    "# x(2*2) . v(2*1) = z(2*1)"
   ]
  },
  {
   "cell_type": "code",
   "execution_count": 59,
   "metadata": {},
   "outputs": [
    {
     "data": {
      "text/plain": [
       "219"
      ]
     },
     "execution_count": 59,
     "metadata": {},
     "output_type": "execute_result"
    }
   ],
   "source": [
    "v.dot(w)\n",
    "np.dot(v,w)\n",
    "# x(2*1) . y(2*1) = z(1*1)"
   ]
  },
  {
   "cell_type": "markdown",
   "metadata": {},
   "source": [
    "#### Transpose"
   ]
  },
  {
   "cell_type": "code",
   "execution_count": 60,
   "metadata": {},
   "outputs": [
    {
     "data": {
      "text/plain": [
       "array([[1., 3.],\n",
       "       [2., 4.]])"
      ]
     },
     "execution_count": 60,
     "metadata": {},
     "output_type": "execute_result"
    }
   ],
   "source": [
    "x.T"
   ]
  },
  {
   "cell_type": "markdown",
   "metadata": {},
   "source": [
    "### E. 브로드캐스팅"
   ]
  },
  {
   "cell_type": "markdown",
   "metadata": {},
   "source": [
    "어레이에 특정 조건을 만족하는 벡터를 연산시키면 그대로 행/열에 녹아들며 계산됨"
   ]
  },
  {
   "cell_type": "code",
   "execution_count": 65,
   "metadata": {},
   "outputs": [],
   "source": [
    "x = np.array([[1,2,3], [4,5,6], [7,8,9], [10, 11, 12]])\n",
    "v = np.array([4,4,4,4])\n",
    "w = np.array([3,3,3])"
   ]
  },
  {
   "cell_type": "code",
   "execution_count": 63,
   "metadata": {},
   "outputs": [
    {
     "data": {
      "text/plain": [
       "array([[ 1,  2,  3],\n",
       "       [ 4,  5,  6],\n",
       "       [ 7,  8,  9],\n",
       "       [10, 11, 12]])"
      ]
     },
     "execution_count": 63,
     "metadata": {},
     "output_type": "execute_result"
    }
   ],
   "source": [
    "x\n",
    "# (4*3) 행렬"
   ]
  },
  {
   "cell_type": "code",
   "execution_count": 73,
   "metadata": {},
   "outputs": [
    {
     "data": {
      "text/plain": [
       "array([[0, 0, 0],\n",
       "       [0, 0, 0],\n",
       "       [0, 0, 0],\n",
       "       [0, 0, 0]])"
      ]
     },
     "execution_count": 73,
     "metadata": {},
     "output_type": "execute_result"
    }
   ],
   "source": [
    "x * 0 \n",
    "# 전체 원소에 0을 곱합"
   ]
  },
  {
   "cell_type": "code",
   "execution_count": 69,
   "metadata": {},
   "outputs": [
    {
     "data": {
      "text/plain": [
       "array([[ 4,  5,  6],\n",
       "       [ 7,  8,  9],\n",
       "       [10, 11, 12],\n",
       "       [13, 14, 15]])"
      ]
     },
     "execution_count": 69,
     "metadata": {},
     "output_type": "execute_result"
    }
   ],
   "source": [
    "x + w\n",
    "# 열 전체에 w를 더함"
   ]
  },
  {
   "cell_type": "code",
   "execution_count": 75,
   "metadata": {},
   "outputs": [
    {
     "ename": "ValueError",
     "evalue": "operands could not be broadcast together with shapes (4,3) (4,) ",
     "output_type": "error",
     "traceback": [
      "\u001b[1;31m---------------------------------------------------------------------------\u001b[0m",
      "\u001b[1;31mValueError\u001b[0m                                Traceback (most recent call last)",
      "\u001b[1;32m<ipython-input-75-beb33bb806e2>\u001b[0m in \u001b[0;36m<module>\u001b[1;34m\u001b[0m\n\u001b[1;32m----> 1\u001b[1;33m \u001b[0mx\u001b[0m \u001b[1;33m+\u001b[0m \u001b[0mv\u001b[0m\u001b[1;33m\u001b[0m\u001b[1;33m\u001b[0m\u001b[0m\n\u001b[0m\u001b[0;32m      2\u001b[0m \u001b[1;31m# 열 차원에서만 가능\u001b[0m\u001b[1;33m\u001b[0m\u001b[1;33m\u001b[0m\u001b[1;33m\u001b[0m\u001b[0m\n",
      "\u001b[1;31mValueError\u001b[0m: operands could not be broadcast together with shapes (4,3) (4,) "
     ]
    }
   ],
   "source": [
    "x + v\n",
    "# 열 차원에서만 가능"
   ]
  },
  {
   "cell_type": "markdown",
   "metadata": {},
   "source": [
    "## 3. 판다스 튜토리얼"
   ]
  },
  {
   "cell_type": "markdown",
   "metadata": {},
   "source": [
    "#### a. 판다스 기초"
   ]
  },
  {
   "cell_type": "markdown",
   "metadata": {},
   "source": [
    "- 넘파이에 제한을 둠으로써 좀 더 다양한 기능을 제공\n",
    "- 시리즈(1차원), 데이터프레임(2차원)의 자료구조를 제공"
   ]
  },
  {
   "attachments": {
    "image.png": {
     "image/png": "[encoded data removed]"
    }
   },
   "cell_type": "markdown",
   "metadata": {},
   "source": [
    "![image.png](attachment:image.png)"
   ]
  },
  {
   "cell_type": "code",
   "execution_count": 79,
   "metadata": {},
   "outputs": [
    {
     "data": {
      "text/html": [
       "<div>\n",
       "<style scoped>\n",
       "    .dataframe tbody tr th:only-of-type {\n",
       "        vertical-align: middle;\n",
       "    }\n",
       "\n",
       "    .dataframe tbody tr th {\n",
       "        vertical-align: top;\n",
       "    }\n",
       "\n",
       "    .dataframe thead th {\n",
       "        text-align: right;\n",
       "    }\n",
       "</style>\n",
       "<table border=\"1\" class=\"dataframe\">\n",
       "  <thead>\n",
       "    <tr style=\"text-align: right;\">\n",
       "      <th></th>\n",
       "      <th>apples</th>\n",
       "      <th>oranges</th>\n",
       "    </tr>\n",
       "  </thead>\n",
       "  <tbody>\n",
       "    <tr>\n",
       "      <td>June</td>\n",
       "      <td>3</td>\n",
       "      <td>0</td>\n",
       "    </tr>\n",
       "    <tr>\n",
       "      <td>Robert</td>\n",
       "      <td>2</td>\n",
       "      <td>3</td>\n",
       "    </tr>\n",
       "    <tr>\n",
       "      <td>Lily</td>\n",
       "      <td>0</td>\n",
       "      <td>7</td>\n",
       "    </tr>\n",
       "    <tr>\n",
       "      <td>David</td>\n",
       "      <td>1</td>\n",
       "      <td>2</td>\n",
       "    </tr>\n",
       "  </tbody>\n",
       "</table>\n",
       "</div>"
      ],
      "text/plain": [
       "        apples  oranges\n",
       "June         3        0\n",
       "Robert       2        3\n",
       "Lily         0        7\n",
       "David        1        2"
      ]
     },
     "execution_count": 79,
     "metadata": {},
     "output_type": "execute_result"
    }
   ],
   "source": [
    "import pandas as pd\n",
    "data = {\n",
    "    'apples': [3, 2, 0, 1], \n",
    "    'oranges': [0, 3, 7, 2]}\n",
    "purchases = pd.DataFrame(data, index=['June', 'Robert', 'Lily', 'David'])\n",
    "purchases"
   ]
  },
  {
   "cell_type": "markdown",
   "metadata": {},
   "source": [
    "- 넘파이의 그것보다 좀 더 깔끔한 뷰를 제공함\n",
    "- 넘파이의 그것과는 다르게 행과 열에 이름을 붙여줄 수 있음"
   ]
  },
  {
   "cell_type": "markdown",
   "metadata": {},
   "source": [
    "csv 파일(Comma Seperated Value)를 그대로 받아올 수 있음"
   ]
  },
  {
   "cell_type": "code",
   "execution_count": 165,
   "metadata": {},
   "outputs": [],
   "source": [
    "data = pd.read_csv(\"dataset_for_analysis.csv\",encoding=\"ANSI\")\n",
    "data.index = data[\"사례번호\"]\n",
    "data = data.iloc[:,1:]"
   ]
  },
  {
   "cell_type": "code",
   "execution_count": 166,
   "metadata": {},
   "outputs": [
    {
     "data": {
      "text/html": [
       "<div>\n",
       "<style scoped>\n",
       "    .dataframe tbody tr th:only-of-type {\n",
       "        vertical-align: middle;\n",
       "    }\n",
       "\n",
       "    .dataframe tbody tr th {\n",
       "        vertical-align: top;\n",
       "    }\n",
       "\n",
       "    .dataframe thead th {\n",
       "        text-align: right;\n",
       "    }\n",
       "</style>\n",
       "<table border=\"1\" class=\"dataframe\">\n",
       "  <thead>\n",
       "    <tr style=\"text-align: right;\">\n",
       "      <th></th>\n",
       "      <th>명칭</th>\n",
       "      <th>대륙</th>\n",
       "      <th>국가</th>\n",
       "      <th>연도</th>\n",
       "      <th>당해 GDP 성장율</th>\n",
       "      <th>지난 9년 성장율 중위</th>\n",
       "      <th>기준연도(중위 연도)</th>\n",
       "      <th>당해 물가 상승률</th>\n",
       "      <th>기준연도 물가 상승률</th>\n",
       "    </tr>\n",
       "    <tr>\n",
       "      <th>사례번호</th>\n",
       "      <th></th>\n",
       "      <th></th>\n",
       "      <th></th>\n",
       "      <th></th>\n",
       "      <th></th>\n",
       "      <th></th>\n",
       "      <th></th>\n",
       "      <th></th>\n",
       "      <th></th>\n",
       "    </tr>\n",
       "  </thead>\n",
       "  <tbody>\n",
       "    <tr>\n",
       "      <td>1</td>\n",
       "      <td>노동법 개정 반대 시위</td>\n",
       "      <td>유럽</td>\n",
       "      <td>이탈리아</td>\n",
       "      <td>2002</td>\n",
       "      <td>0.240000</td>\n",
       "      <td>1.77</td>\n",
       "      <td>2001</td>\n",
       "      <td>3.350000</td>\n",
       "      <td>2.980000</td>\n",
       "    </tr>\n",
       "    <tr>\n",
       "      <td>2</td>\n",
       "      <td>카탈루냐 분리독립시위</td>\n",
       "      <td>유럽</td>\n",
       "      <td>스페인</td>\n",
       "      <td>2014</td>\n",
       "      <td>1.370000</td>\n",
       "      <td>0.01</td>\n",
       "      <td>2010</td>\n",
       "      <td>-0.190000</td>\n",
       "      <td>0.160000</td>\n",
       "    </tr>\n",
       "    <tr>\n",
       "      <td>3</td>\n",
       "      <td>노란 조끼 시위</td>\n",
       "      <td>유럽</td>\n",
       "      <td>프랑스</td>\n",
       "      <td>2018</td>\n",
       "      <td>1.724881</td>\n",
       "      <td>1.05</td>\n",
       "      <td>2016</td>\n",
       "      <td>0.780000</td>\n",
       "      <td>0.520000</td>\n",
       "    </tr>\n",
       "    <tr>\n",
       "      <td>4</td>\n",
       "      <td>브렉시트 반대시위</td>\n",
       "      <td>유럽</td>\n",
       "      <td>영국</td>\n",
       "      <td>2019</td>\n",
       "      <td>1.390000</td>\n",
       "      <td>1.78</td>\n",
       "      <td>2016</td>\n",
       "      <td>1.890000</td>\n",
       "      <td>0.430000</td>\n",
       "    </tr>\n",
       "    <tr>\n",
       "      <td>5</td>\n",
       "      <td>푸른혁명</td>\n",
       "      <td>유럽</td>\n",
       "      <td>불가리아</td>\n",
       "      <td>1989</td>\n",
       "      <td>-3.289882</td>\n",
       "      <td>3.43</td>\n",
       "      <td>1983</td>\n",
       "      <td>6.720000</td>\n",
       "      <td>-0.640000</td>\n",
       "    </tr>\n",
       "    <tr>\n",
       "      <td>6</td>\n",
       "      <td>대선 불복 시위</td>\n",
       "      <td>남아메리카</td>\n",
       "      <td>볼리비아</td>\n",
       "      <td>2019</td>\n",
       "      <td>4.223625</td>\n",
       "      <td>4.85</td>\n",
       "      <td>2015</td>\n",
       "      <td>3.056264</td>\n",
       "      <td>-4.620603</td>\n",
       "    </tr>\n",
       "    <tr>\n",
       "      <td>7</td>\n",
       "      <td>칠레 반정부 시위</td>\n",
       "      <td>남아메리카</td>\n",
       "      <td>칠레</td>\n",
       "      <td>2019</td>\n",
       "      <td>4.024653</td>\n",
       "      <td>2.30</td>\n",
       "      <td>2015</td>\n",
       "      <td>2.018808</td>\n",
       "      <td>4.953538</td>\n",
       "    </tr>\n",
       "    <tr>\n",
       "      <td>8</td>\n",
       "      <td>마두로 퇴진 운동</td>\n",
       "      <td>남아메리카</td>\n",
       "      <td>베네수엘라</td>\n",
       "      <td>2015</td>\n",
       "      <td>-3.800000</td>\n",
       "      <td>4.17</td>\n",
       "      <td>2011</td>\n",
       "      <td>40.440490</td>\n",
       "      <td>28.149191</td>\n",
       "    </tr>\n",
       "    <tr>\n",
       "      <td>9</td>\n",
       "      <td>브라질 시위</td>\n",
       "      <td>남아메리카</td>\n",
       "      <td>브라질</td>\n",
       "      <td>2013</td>\n",
       "      <td>3.004823</td>\n",
       "      <td>3.97</td>\n",
       "      <td>2011</td>\n",
       "      <td>7.504544</td>\n",
       "      <td>8.318592</td>\n",
       "    </tr>\n",
       "    <tr>\n",
       "      <td>10</td>\n",
       "      <td>피플 파워 혁명</td>\n",
       "      <td>동아시아</td>\n",
       "      <td>필리핀</td>\n",
       "      <td>1986</td>\n",
       "      <td>-7.306609</td>\n",
       "      <td>0.83</td>\n",
       "      <td>1977</td>\n",
       "      <td>2.952878</td>\n",
       "      <td>8.272876</td>\n",
       "    </tr>\n",
       "    <tr>\n",
       "      <td>11</td>\n",
       "      <td>천안문 광장 시위</td>\n",
       "      <td>동아시아</td>\n",
       "      <td>중국</td>\n",
       "      <td>1989</td>\n",
       "      <td>4.185868</td>\n",
       "      <td>10.83</td>\n",
       "      <td>1983</td>\n",
       "      <td>8.623799</td>\n",
       "      <td>1.097460</td>\n",
       "    </tr>\n",
       "    <tr>\n",
       "      <td>12</td>\n",
       "      <td>천안문 사태 반대 시위</td>\n",
       "      <td>동아시아</td>\n",
       "      <td>홍콩</td>\n",
       "      <td>1989</td>\n",
       "      <td>2.276921</td>\n",
       "      <td>9.97</td>\n",
       "      <td>1984</td>\n",
       "      <td>12.559534</td>\n",
       "      <td>9.642059</td>\n",
       "    </tr>\n",
       "    <tr>\n",
       "      <td>13</td>\n",
       "      <td>우산혁명</td>\n",
       "      <td>동아시아</td>\n",
       "      <td>홍콩</td>\n",
       "      <td>2014</td>\n",
       "      <td>2.762394</td>\n",
       "      <td>4.81</td>\n",
       "      <td>2011</td>\n",
       "      <td>2.850293</td>\n",
       "      <td>3.897902</td>\n",
       "    </tr>\n",
       "    <tr>\n",
       "      <td>14</td>\n",
       "      <td>6월 민주항쟁</td>\n",
       "      <td>동아시아</td>\n",
       "      <td>대한민국</td>\n",
       "      <td>1987</td>\n",
       "      <td>12.467266</td>\n",
       "      <td>8.62</td>\n",
       "      <td>1979</td>\n",
       "      <td>4.948634</td>\n",
       "      <td>18.532455</td>\n",
       "    </tr>\n",
       "    <tr>\n",
       "      <td>15</td>\n",
       "      <td>박근혜 퇴진 운동</td>\n",
       "      <td>동아시아</td>\n",
       "      <td>대한민국</td>\n",
       "      <td>2016</td>\n",
       "      <td>2.929305</td>\n",
       "      <td>2.89</td>\n",
       "      <td>2013</td>\n",
       "      <td>1.977969</td>\n",
       "      <td>0.853334</td>\n",
       "    </tr>\n",
       "    <tr>\n",
       "      <td>16</td>\n",
       "      <td>샤프론 혁명</td>\n",
       "      <td>동아시아</td>\n",
       "      <td>미얀마</td>\n",
       "      <td>2007</td>\n",
       "      <td>11.991435</td>\n",
       "      <td>13.07</td>\n",
       "      <td>2006</td>\n",
       "      <td>23.643908</td>\n",
       "      <td>21.300499</td>\n",
       "    </tr>\n",
       "    <tr>\n",
       "      <td>17</td>\n",
       "      <td>백향목 혁명</td>\n",
       "      <td>중동</td>\n",
       "      <td>레바논</td>\n",
       "      <td>2005</td>\n",
       "      <td>2.748394</td>\n",
       "      <td>3.42</td>\n",
       "      <td>2002</td>\n",
       "      <td>-1.089530</td>\n",
       "      <td>4.921188</td>\n",
       "    </tr>\n",
       "    <tr>\n",
       "      <td>18</td>\n",
       "      <td>터키 반정부 시위</td>\n",
       "      <td>중동</td>\n",
       "      <td>터키</td>\n",
       "      <td>2013</td>\n",
       "      <td>8.491309</td>\n",
       "      <td>7.10</td>\n",
       "      <td>2006</td>\n",
       "      <td>6.268814</td>\n",
       "      <td>9.371704</td>\n",
       "    </tr>\n",
       "    <tr>\n",
       "      <td>19</td>\n",
       "      <td>쟈스민 혁명</td>\n",
       "      <td>중동</td>\n",
       "      <td>튀니지</td>\n",
       "      <td>2010</td>\n",
       "      <td>3.510609</td>\n",
       "      <td>4.23</td>\n",
       "      <td>2008</td>\n",
       "      <td>3.815415</td>\n",
       "      <td>6.346362</td>\n",
       "    </tr>\n",
       "    <tr>\n",
       "      <td>20</td>\n",
       "      <td>이집트 혁명</td>\n",
       "      <td>중동</td>\n",
       "      <td>이집트</td>\n",
       "      <td>2011</td>\n",
       "      <td>1.764572</td>\n",
       "      <td>4.67</td>\n",
       "      <td>2009</td>\n",
       "      <td>11.662976</td>\n",
       "      <td>11.185542</td>\n",
       "    </tr>\n",
       "    <tr>\n",
       "      <td>21</td>\n",
       "      <td>시리아 내전</td>\n",
       "      <td>중동</td>\n",
       "      <td>시리아</td>\n",
       "      <td>2008</td>\n",
       "      <td>3.400000</td>\n",
       "      <td>5.20</td>\n",
       "      <td>2001</td>\n",
       "      <td>11.967172</td>\n",
       "      <td>4.563572</td>\n",
       "    </tr>\n",
       "    <tr>\n",
       "      <td>22</td>\n",
       "      <td>리비아 내전</td>\n",
       "      <td>중동</td>\n",
       "      <td>리비아</td>\n",
       "      <td>2009</td>\n",
       "      <td>-0.790000</td>\n",
       "      <td>4.46</td>\n",
       "      <td>2004</td>\n",
       "      <td>-25.312796</td>\n",
       "      <td>22.605353</td>\n",
       "    </tr>\n",
       "  </tbody>\n",
       "</table>\n",
       "</div>"
      ],
      "text/plain": [
       "                명칭     대륙     국가    연도  당해 GDP 성장율  지난 9년 성장율 중위  기준연도(중위 연도)  \\\n",
       "사례번호                                                                            \n",
       "1     노동법 개정 반대 시위     유럽   이탈리아  2002    0.240000          1.77         2001   \n",
       "2      카탈루냐 분리독립시위     유럽    스페인  2014    1.370000          0.01         2010   \n",
       "3         노란 조끼 시위     유럽    프랑스  2018    1.724881          1.05         2016   \n",
       "4        브렉시트 반대시위     유럽     영국  2019    1.390000          1.78         2016   \n",
       "5             푸른혁명     유럽   불가리아  1989   -3.289882          3.43         1983   \n",
       "6         대선 불복 시위  남아메리카   볼리비아  2019    4.223625          4.85         2015   \n",
       "7        칠레 반정부 시위  남아메리카     칠레  2019    4.024653          2.30         2015   \n",
       "8        마두로 퇴진 운동  남아메리카  베네수엘라  2015   -3.800000          4.17         2011   \n",
       "9           브라질 시위  남아메리카    브라질  2013    3.004823          3.97         2011   \n",
       "10        피플 파워 혁명   동아시아    필리핀  1986   -7.306609          0.83         1977   \n",
       "11       천안문 광장 시위   동아시아     중국  1989    4.185868         10.83         1983   \n",
       "12    천안문 사태 반대 시위   동아시아     홍콩  1989    2.276921          9.97         1984   \n",
       "13            우산혁명   동아시아     홍콩  2014    2.762394          4.81         2011   \n",
       "14         6월 민주항쟁   동아시아   대한민국  1987   12.467266          8.62         1979   \n",
       "15       박근혜 퇴진 운동   동아시아   대한민국  2016    2.929305          2.89         2013   \n",
       "16          샤프론 혁명   동아시아    미얀마  2007   11.991435         13.07         2006   \n",
       "17          백향목 혁명     중동    레바논  2005    2.748394          3.42         2002   \n",
       "18       터키 반정부 시위     중동     터키  2013    8.491309          7.10         2006   \n",
       "19          쟈스민 혁명     중동    튀니지  2010    3.510609          4.23         2008   \n",
       "20          이집트 혁명     중동    이집트  2011    1.764572          4.67         2009   \n",
       "21          시리아 내전     중동    시리아  2008    3.400000          5.20         2001   \n",
       "22          리비아 내전     중동    리비아  2009   -0.790000          4.46         2004   \n",
       "\n",
       "      당해 물가 상승률  기준연도 물가 상승률  \n",
       "사례번호                          \n",
       "1      3.350000     2.980000  \n",
       "2     -0.190000     0.160000  \n",
       "3      0.780000     0.520000  \n",
       "4      1.890000     0.430000  \n",
       "5      6.720000    -0.640000  \n",
       "6      3.056264    -4.620603  \n",
       "7      2.018808     4.953538  \n",
       "8     40.440490    28.149191  \n",
       "9      7.504544     8.318592  \n",
       "10     2.952878     8.272876  \n",
       "11     8.623799     1.097460  \n",
       "12    12.559534     9.642059  \n",
       "13     2.850293     3.897902  \n",
       "14     4.948634    18.532455  \n",
       "15     1.977969     0.853334  \n",
       "16    23.643908    21.300499  \n",
       "17    -1.089530     4.921188  \n",
       "18     6.268814     9.371704  \n",
       "19     3.815415     6.346362  \n",
       "20    11.662976    11.185542  \n",
       "21    11.967172     4.563572  \n",
       "22   -25.312796    22.605353  "
      ]
     },
     "execution_count": 166,
     "metadata": {},
     "output_type": "execute_result"
    }
   ],
   "source": [
    "data"
   ]
  },
  {
   "cell_type": "markdown",
   "metadata": {},
   "source": [
    "#### b.판다스 인덱싱"
   ]
  },
  {
   "cell_type": "code",
   "execution_count": 167,
   "metadata": {},
   "outputs": [
    {
     "data": {
      "text/plain": [
       "사례번호\n",
       "1      0.240000\n",
       "2      1.370000\n",
       "3      1.724881\n",
       "4      1.390000\n",
       "5     -3.289882\n",
       "6      4.223625\n",
       "7      4.024653\n",
       "8     -3.800000\n",
       "9      3.004823\n",
       "10    -7.306609\n",
       "11     4.185868\n",
       "12     2.276921\n",
       "13     2.762394\n",
       "14    12.467266\n",
       "15     2.929305\n",
       "16    11.991435\n",
       "17     2.748394\n",
       "18     8.491309\n",
       "19     3.510609\n",
       "20     1.764572\n",
       "21     3.400000\n",
       "22    -0.790000\n",
       "Name: 당해 GDP 성장율, dtype: float64"
      ]
     },
     "execution_count": 167,
     "metadata": {},
     "output_type": "execute_result"
    }
   ],
   "source": [
    "data[\"당해 GDP 성장율\"]"
   ]
  },
  {
   "cell_type": "markdown",
   "metadata": {},
   "source": [
    "싱글 인덱스로 열을 뽑아낼 수 있음"
   ]
  },
  {
   "cell_type": "code",
   "execution_count": 168,
   "metadata": {},
   "outputs": [
    {
     "ename": "KeyError",
     "evalue": "1",
     "output_type": "error",
     "traceback": [
      "\u001b[1;31m---------------------------------------------------------------------------\u001b[0m",
      "\u001b[1;31mKeyError\u001b[0m                                  Traceback (most recent call last)",
      "\u001b[1;32m~\\AppData\\Local\\Continuum\\anaconda3\\lib\\site-packages\\pandas\\core\\indexes\\base.py\u001b[0m in \u001b[0;36mget_loc\u001b[1;34m(self, key, method, tolerance)\u001b[0m\n\u001b[0;32m   2896\u001b[0m             \u001b[1;32mtry\u001b[0m\u001b[1;33m:\u001b[0m\u001b[1;33m\u001b[0m\u001b[1;33m\u001b[0m\u001b[0m\n\u001b[1;32m-> 2897\u001b[1;33m                 \u001b[1;32mreturn\u001b[0m \u001b[0mself\u001b[0m\u001b[1;33m.\u001b[0m\u001b[0m_engine\u001b[0m\u001b[1;33m.\u001b[0m\u001b[0mget_loc\u001b[0m\u001b[1;33m(\u001b[0m\u001b[0mkey\u001b[0m\u001b[1;33m)\u001b[0m\u001b[1;33m\u001b[0m\u001b[1;33m\u001b[0m\u001b[0m\n\u001b[0m\u001b[0;32m   2898\u001b[0m             \u001b[1;32mexcept\u001b[0m \u001b[0mKeyError\u001b[0m\u001b[1;33m:\u001b[0m\u001b[1;33m\u001b[0m\u001b[1;33m\u001b[0m\u001b[0m\n",
      "\u001b[1;32mpandas\\_libs\\index.pyx\u001b[0m in \u001b[0;36mpandas._libs.index.IndexEngine.get_loc\u001b[1;34m()\u001b[0m\n",
      "\u001b[1;32mpandas\\_libs\\index.pyx\u001b[0m in \u001b[0;36mpandas._libs.index.IndexEngine.get_loc\u001b[1;34m()\u001b[0m\n",
      "\u001b[1;32mpandas\\_libs\\hashtable_class_helper.pxi\u001b[0m in \u001b[0;36mpandas._libs.hashtable.PyObjectHashTable.get_item\u001b[1;34m()\u001b[0m\n",
      "\u001b[1;32mpandas\\_libs\\hashtable_class_helper.pxi\u001b[0m in \u001b[0;36mpandas._libs.hashtable.PyObjectHashTable.get_item\u001b[1;34m()\u001b[0m\n",
      "\u001b[1;31mKeyError\u001b[0m: 1",
      "\nDuring handling of the above exception, another exception occurred:\n",
      "\u001b[1;31mKeyError\u001b[0m                                  Traceback (most recent call last)",
      "\u001b[1;32m<ipython-input-168-c402bf503b75>\u001b[0m in \u001b[0;36m<module>\u001b[1;34m\u001b[0m\n\u001b[1;32m----> 1\u001b[1;33m \u001b[0mdata\u001b[0m\u001b[1;33m[\u001b[0m\u001b[1;36m1\u001b[0m\u001b[1;33m]\u001b[0m\u001b[1;33m\u001b[0m\u001b[1;33m\u001b[0m\u001b[0m\n\u001b[0m",
      "\u001b[1;32m~\\AppData\\Local\\Continuum\\anaconda3\\lib\\site-packages\\pandas\\core\\frame.py\u001b[0m in \u001b[0;36m__getitem__\u001b[1;34m(self, key)\u001b[0m\n\u001b[0;32m   2978\u001b[0m             \u001b[1;32mif\u001b[0m \u001b[0mself\u001b[0m\u001b[1;33m.\u001b[0m\u001b[0mcolumns\u001b[0m\u001b[1;33m.\u001b[0m\u001b[0mnlevels\u001b[0m \u001b[1;33m>\u001b[0m \u001b[1;36m1\u001b[0m\u001b[1;33m:\u001b[0m\u001b[1;33m\u001b[0m\u001b[1;33m\u001b[0m\u001b[0m\n\u001b[0;32m   2979\u001b[0m                 \u001b[1;32mreturn\u001b[0m \u001b[0mself\u001b[0m\u001b[1;33m.\u001b[0m\u001b[0m_getitem_multilevel\u001b[0m\u001b[1;33m(\u001b[0m\u001b[0mkey\u001b[0m\u001b[1;33m)\u001b[0m\u001b[1;33m\u001b[0m\u001b[1;33m\u001b[0m\u001b[0m\n\u001b[1;32m-> 2980\u001b[1;33m             \u001b[0mindexer\u001b[0m \u001b[1;33m=\u001b[0m \u001b[0mself\u001b[0m\u001b[1;33m.\u001b[0m\u001b[0mcolumns\u001b[0m\u001b[1;33m.\u001b[0m\u001b[0mget_loc\u001b[0m\u001b[1;33m(\u001b[0m\u001b[0mkey\u001b[0m\u001b[1;33m)\u001b[0m\u001b[1;33m\u001b[0m\u001b[1;33m\u001b[0m\u001b[0m\n\u001b[0m\u001b[0;32m   2981\u001b[0m             \u001b[1;32mif\u001b[0m \u001b[0mis_integer\u001b[0m\u001b[1;33m(\u001b[0m\u001b[0mindexer\u001b[0m\u001b[1;33m)\u001b[0m\u001b[1;33m:\u001b[0m\u001b[1;33m\u001b[0m\u001b[1;33m\u001b[0m\u001b[0m\n\u001b[0;32m   2982\u001b[0m                 \u001b[0mindexer\u001b[0m \u001b[1;33m=\u001b[0m \u001b[1;33m[\u001b[0m\u001b[0mindexer\u001b[0m\u001b[1;33m]\u001b[0m\u001b[1;33m\u001b[0m\u001b[1;33m\u001b[0m\u001b[0m\n",
      "\u001b[1;32m~\\AppData\\Local\\Continuum\\anaconda3\\lib\\site-packages\\pandas\\core\\indexes\\base.py\u001b[0m in \u001b[0;36mget_loc\u001b[1;34m(self, key, method, tolerance)\u001b[0m\n\u001b[0;32m   2897\u001b[0m                 \u001b[1;32mreturn\u001b[0m \u001b[0mself\u001b[0m\u001b[1;33m.\u001b[0m\u001b[0m_engine\u001b[0m\u001b[1;33m.\u001b[0m\u001b[0mget_loc\u001b[0m\u001b[1;33m(\u001b[0m\u001b[0mkey\u001b[0m\u001b[1;33m)\u001b[0m\u001b[1;33m\u001b[0m\u001b[1;33m\u001b[0m\u001b[0m\n\u001b[0;32m   2898\u001b[0m             \u001b[1;32mexcept\u001b[0m \u001b[0mKeyError\u001b[0m\u001b[1;33m:\u001b[0m\u001b[1;33m\u001b[0m\u001b[1;33m\u001b[0m\u001b[0m\n\u001b[1;32m-> 2899\u001b[1;33m                 \u001b[1;32mreturn\u001b[0m \u001b[0mself\u001b[0m\u001b[1;33m.\u001b[0m\u001b[0m_engine\u001b[0m\u001b[1;33m.\u001b[0m\u001b[0mget_loc\u001b[0m\u001b[1;33m(\u001b[0m\u001b[0mself\u001b[0m\u001b[1;33m.\u001b[0m\u001b[0m_maybe_cast_indexer\u001b[0m\u001b[1;33m(\u001b[0m\u001b[0mkey\u001b[0m\u001b[1;33m)\u001b[0m\u001b[1;33m)\u001b[0m\u001b[1;33m\u001b[0m\u001b[1;33m\u001b[0m\u001b[0m\n\u001b[0m\u001b[0;32m   2900\u001b[0m         \u001b[0mindexer\u001b[0m \u001b[1;33m=\u001b[0m \u001b[0mself\u001b[0m\u001b[1;33m.\u001b[0m\u001b[0mget_indexer\u001b[0m\u001b[1;33m(\u001b[0m\u001b[1;33m[\u001b[0m\u001b[0mkey\u001b[0m\u001b[1;33m]\u001b[0m\u001b[1;33m,\u001b[0m \u001b[0mmethod\u001b[0m\u001b[1;33m=\u001b[0m\u001b[0mmethod\u001b[0m\u001b[1;33m,\u001b[0m \u001b[0mtolerance\u001b[0m\u001b[1;33m=\u001b[0m\u001b[0mtolerance\u001b[0m\u001b[1;33m)\u001b[0m\u001b[1;33m\u001b[0m\u001b[1;33m\u001b[0m\u001b[0m\n\u001b[0;32m   2901\u001b[0m         \u001b[1;32mif\u001b[0m \u001b[0mindexer\u001b[0m\u001b[1;33m.\u001b[0m\u001b[0mndim\u001b[0m \u001b[1;33m>\u001b[0m \u001b[1;36m1\u001b[0m \u001b[1;32mor\u001b[0m \u001b[0mindexer\u001b[0m\u001b[1;33m.\u001b[0m\u001b[0msize\u001b[0m \u001b[1;33m>\u001b[0m \u001b[1;36m1\u001b[0m\u001b[1;33m:\u001b[0m\u001b[1;33m\u001b[0m\u001b[1;33m\u001b[0m\u001b[0m\n",
      "\u001b[1;32mpandas\\_libs\\index.pyx\u001b[0m in \u001b[0;36mpandas._libs.index.IndexEngine.get_loc\u001b[1;34m()\u001b[0m\n",
      "\u001b[1;32mpandas\\_libs\\index.pyx\u001b[0m in \u001b[0;36mpandas._libs.index.IndexEngine.get_loc\u001b[1;34m()\u001b[0m\n",
      "\u001b[1;32mpandas\\_libs\\hashtable_class_helper.pxi\u001b[0m in \u001b[0;36mpandas._libs.hashtable.PyObjectHashTable.get_item\u001b[1;34m()\u001b[0m\n",
      "\u001b[1;32mpandas\\_libs\\hashtable_class_helper.pxi\u001b[0m in \u001b[0;36mpandas._libs.hashtable.PyObjectHashTable.get_item\u001b[1;34m()\u001b[0m\n",
      "\u001b[1;31mKeyError\u001b[0m: 1"
     ]
    }
   ],
   "source": [
    "data[1]"
   ]
  },
  {
   "cell_type": "markdown",
   "metadata": {},
   "source": [
    "싱글 인덱스로 행을 뽑아낼 수는 없음  \n",
    "일반적으로는 loc/iloc 메서드를 사용함"
   ]
  },
  {
   "cell_type": "markdown",
   "metadata": {},
   "source": [
    ".loc - $\\textbf{loc}$ates by name  \n",
    ".iloc- $\\textbf{loc}$ates by numerical $\\textbf{i}$ndex"
   ]
  },
  {
   "cell_type": "code",
   "execution_count": 169,
   "metadata": {},
   "outputs": [
    {
     "data": {
      "text/plain": [
       "명칭              노동법 개정 반대 시위\n",
       "대륙                        유럽\n",
       "국가                      이탈리아\n",
       "연도                      2002\n",
       "당해 GDP 성장율              0.24\n",
       "지난 9년 성장율 중위            1.77\n",
       "기준연도(중위 연도)             2001\n",
       "당해 물가 상승률               3.35\n",
       "기준연도 물가 상승률             2.98\n",
       "Name: 1, dtype: object"
      ]
     },
     "execution_count": 169,
     "metadata": {},
     "output_type": "execute_result"
    }
   ],
   "source": [
    "data.loc[1]"
   ]
  },
  {
   "cell_type": "code",
   "execution_count": 170,
   "metadata": {},
   "outputs": [
    {
     "data": {
      "text/plain": [
       "사례번호\n",
       "1      0.240000\n",
       "2      1.370000\n",
       "3      1.724881\n",
       "4      1.390000\n",
       "5     -3.289882\n",
       "6      4.223625\n",
       "7      4.024653\n",
       "8     -3.800000\n",
       "9      3.004823\n",
       "10    -7.306609\n",
       "11     4.185868\n",
       "12     2.276921\n",
       "13     2.762394\n",
       "14    12.467266\n",
       "15     2.929305\n",
       "16    11.991435\n",
       "17     2.748394\n",
       "18     8.491309\n",
       "19     3.510609\n",
       "20     1.764572\n",
       "21     3.400000\n",
       "22    -0.790000\n",
       "Name: 당해 GDP 성장율, dtype: float64"
      ]
     },
     "execution_count": 170,
     "metadata": {},
     "output_type": "execute_result"
    }
   ],
   "source": [
    "data.loc[:,\"당해 GDP 성장율\"]\n",
    "# 빈자리는 :로 비었다는 표시를 해줌"
   ]
  },
  {
   "cell_type": "markdown",
   "metadata": {},
   "source": [
    ".iloc으로 평소에 쓰던 인덱스 방식을 사용할 수 있음"
   ]
  },
  {
   "cell_type": "code",
   "execution_count": 174,
   "metadata": {},
   "outputs": [
    {
     "data": {
      "text/plain": [
       "명칭    카탈루냐 분리독립시위\n",
       "대륙             유럽\n",
       "국가            스페인\n",
       "Name: 2, dtype: object"
      ]
     },
     "execution_count": 174,
     "metadata": {},
     "output_type": "execute_result"
    }
   ],
   "source": [
    "data.iloc[1,0:3]"
   ]
  },
  {
   "cell_type": "markdown",
   "metadata": {},
   "source": [
    "+ 인덱싱 방식의 차이로 시리즈로 반환할수도, 데이터프레임으로 반환할수도 있음"
   ]
  },
  {
   "cell_type": "markdown",
   "metadata": {},
   "source": [
    "시리즈 반환"
   ]
  },
  {
   "cell_type": "code",
   "execution_count": 175,
   "metadata": {},
   "outputs": [
    {
     "data": {
      "text/plain": [
       "사례번호\n",
       "1     노동법 개정 반대 시위\n",
       "2      카탈루냐 분리독립시위\n",
       "3         노란 조끼 시위\n",
       "4        브렉시트 반대시위\n",
       "5             푸른혁명\n",
       "6         대선 불복 시위\n",
       "7        칠레 반정부 시위\n",
       "8        마두로 퇴진 운동\n",
       "9           브라질 시위\n",
       "10        피플 파워 혁명\n",
       "11       천안문 광장 시위\n",
       "12    천안문 사태 반대 시위\n",
       "13            우산혁명\n",
       "14         6월 민주항쟁\n",
       "15       박근혜 퇴진 운동\n",
       "16          샤프론 혁명\n",
       "17          백향목 혁명\n",
       "18       터키 반정부 시위\n",
       "19          쟈스민 혁명\n",
       "20          이집트 혁명\n",
       "21          시리아 내전\n",
       "22          리비아 내전\n",
       "Name: 명칭, dtype: object"
      ]
     },
     "execution_count": 175,
     "metadata": {},
     "output_type": "execute_result"
    }
   ],
   "source": [
    "data.iloc[:,0]"
   ]
  },
  {
   "cell_type": "markdown",
   "metadata": {},
   "source": [
    "데이터 프레임 반환"
   ]
  },
  {
   "cell_type": "code",
   "execution_count": 176,
   "metadata": {},
   "outputs": [
    {
     "data": {
      "text/html": [
       "<div>\n",
       "<style scoped>\n",
       "    .dataframe tbody tr th:only-of-type {\n",
       "        vertical-align: middle;\n",
       "    }\n",
       "\n",
       "    .dataframe tbody tr th {\n",
       "        vertical-align: top;\n",
       "    }\n",
       "\n",
       "    .dataframe thead th {\n",
       "        text-align: right;\n",
       "    }\n",
       "</style>\n",
       "<table border=\"1\" class=\"dataframe\">\n",
       "  <thead>\n",
       "    <tr style=\"text-align: right;\">\n",
       "      <th></th>\n",
       "      <th>명칭</th>\n",
       "    </tr>\n",
       "    <tr>\n",
       "      <th>사례번호</th>\n",
       "      <th></th>\n",
       "    </tr>\n",
       "  </thead>\n",
       "  <tbody>\n",
       "    <tr>\n",
       "      <td>1</td>\n",
       "      <td>노동법 개정 반대 시위</td>\n",
       "    </tr>\n",
       "    <tr>\n",
       "      <td>2</td>\n",
       "      <td>카탈루냐 분리독립시위</td>\n",
       "    </tr>\n",
       "    <tr>\n",
       "      <td>3</td>\n",
       "      <td>노란 조끼 시위</td>\n",
       "    </tr>\n",
       "    <tr>\n",
       "      <td>4</td>\n",
       "      <td>브렉시트 반대시위</td>\n",
       "    </tr>\n",
       "    <tr>\n",
       "      <td>5</td>\n",
       "      <td>푸른혁명</td>\n",
       "    </tr>\n",
       "    <tr>\n",
       "      <td>6</td>\n",
       "      <td>대선 불복 시위</td>\n",
       "    </tr>\n",
       "    <tr>\n",
       "      <td>7</td>\n",
       "      <td>칠레 반정부 시위</td>\n",
       "    </tr>\n",
       "    <tr>\n",
       "      <td>8</td>\n",
       "      <td>마두로 퇴진 운동</td>\n",
       "    </tr>\n",
       "    <tr>\n",
       "      <td>9</td>\n",
       "      <td>브라질 시위</td>\n",
       "    </tr>\n",
       "    <tr>\n",
       "      <td>10</td>\n",
       "      <td>피플 파워 혁명</td>\n",
       "    </tr>\n",
       "    <tr>\n",
       "      <td>11</td>\n",
       "      <td>천안문 광장 시위</td>\n",
       "    </tr>\n",
       "    <tr>\n",
       "      <td>12</td>\n",
       "      <td>천안문 사태 반대 시위</td>\n",
       "    </tr>\n",
       "    <tr>\n",
       "      <td>13</td>\n",
       "      <td>우산혁명</td>\n",
       "    </tr>\n",
       "    <tr>\n",
       "      <td>14</td>\n",
       "      <td>6월 민주항쟁</td>\n",
       "    </tr>\n",
       "    <tr>\n",
       "      <td>15</td>\n",
       "      <td>박근혜 퇴진 운동</td>\n",
       "    </tr>\n",
       "    <tr>\n",
       "      <td>16</td>\n",
       "      <td>샤프론 혁명</td>\n",
       "    </tr>\n",
       "    <tr>\n",
       "      <td>17</td>\n",
       "      <td>백향목 혁명</td>\n",
       "    </tr>\n",
       "    <tr>\n",
       "      <td>18</td>\n",
       "      <td>터키 반정부 시위</td>\n",
       "    </tr>\n",
       "    <tr>\n",
       "      <td>19</td>\n",
       "      <td>쟈스민 혁명</td>\n",
       "    </tr>\n",
       "    <tr>\n",
       "      <td>20</td>\n",
       "      <td>이집트 혁명</td>\n",
       "    </tr>\n",
       "    <tr>\n",
       "      <td>21</td>\n",
       "      <td>시리아 내전</td>\n",
       "    </tr>\n",
       "    <tr>\n",
       "      <td>22</td>\n",
       "      <td>리비아 내전</td>\n",
       "    </tr>\n",
       "  </tbody>\n",
       "</table>\n",
       "</div>"
      ],
      "text/plain": [
       "                명칭\n",
       "사례번호              \n",
       "1     노동법 개정 반대 시위\n",
       "2      카탈루냐 분리독립시위\n",
       "3         노란 조끼 시위\n",
       "4        브렉시트 반대시위\n",
       "5             푸른혁명\n",
       "6         대선 불복 시위\n",
       "7        칠레 반정부 시위\n",
       "8        마두로 퇴진 운동\n",
       "9           브라질 시위\n",
       "10        피플 파워 혁명\n",
       "11       천안문 광장 시위\n",
       "12    천안문 사태 반대 시위\n",
       "13            우산혁명\n",
       "14         6월 민주항쟁\n",
       "15       박근혜 퇴진 운동\n",
       "16          샤프론 혁명\n",
       "17          백향목 혁명\n",
       "18       터키 반정부 시위\n",
       "19          쟈스민 혁명\n",
       "20          이집트 혁명\n",
       "21          시리아 내전\n",
       "22          리비아 내전"
      ]
     },
     "execution_count": 176,
     "metadata": {},
     "output_type": "execute_result"
    }
   ],
   "source": [
    "data.iloc[:,0:1]"
   ]
  },
  {
   "cell_type": "markdown",
   "metadata": {},
   "source": [
    "불린 인덱스 물론 가능"
   ]
  },
  {
   "cell_type": "code",
   "execution_count": 188,
   "metadata": {},
   "outputs": [
    {
     "data": {
      "text/html": [
       "<div>\n",
       "<style scoped>\n",
       "    .dataframe tbody tr th:only-of-type {\n",
       "        vertical-align: middle;\n",
       "    }\n",
       "\n",
       "    .dataframe tbody tr th {\n",
       "        vertical-align: top;\n",
       "    }\n",
       "\n",
       "    .dataframe thead th {\n",
       "        text-align: right;\n",
       "    }\n",
       "</style>\n",
       "<table border=\"1\" class=\"dataframe\">\n",
       "  <thead>\n",
       "    <tr style=\"text-align: right;\">\n",
       "      <th></th>\n",
       "      <th>명칭</th>\n",
       "      <th>대륙</th>\n",
       "      <th>국가</th>\n",
       "      <th>연도</th>\n",
       "      <th>당해 GDP 성장율</th>\n",
       "      <th>지난 9년 성장율 중위</th>\n",
       "      <th>기준연도(중위 연도)</th>\n",
       "      <th>당해 물가 상승률</th>\n",
       "      <th>기준연도 물가 상승률</th>\n",
       "    </tr>\n",
       "    <tr>\n",
       "      <th>사례번호</th>\n",
       "      <th></th>\n",
       "      <th></th>\n",
       "      <th></th>\n",
       "      <th></th>\n",
       "      <th></th>\n",
       "      <th></th>\n",
       "      <th></th>\n",
       "      <th></th>\n",
       "      <th></th>\n",
       "    </tr>\n",
       "  </thead>\n",
       "  <tbody>\n",
       "    <tr>\n",
       "      <td>6</td>\n",
       "      <td>대선 불복 시위</td>\n",
       "      <td>남아메리카</td>\n",
       "      <td>볼리비아</td>\n",
       "      <td>2019</td>\n",
       "      <td>4.223625</td>\n",
       "      <td>4.85</td>\n",
       "      <td>2015</td>\n",
       "      <td>3.056264</td>\n",
       "      <td>-4.620603</td>\n",
       "    </tr>\n",
       "    <tr>\n",
       "      <td>7</td>\n",
       "      <td>칠레 반정부 시위</td>\n",
       "      <td>남아메리카</td>\n",
       "      <td>칠레</td>\n",
       "      <td>2019</td>\n",
       "      <td>4.024653</td>\n",
       "      <td>2.30</td>\n",
       "      <td>2015</td>\n",
       "      <td>2.018808</td>\n",
       "      <td>4.953538</td>\n",
       "    </tr>\n",
       "    <tr>\n",
       "      <td>9</td>\n",
       "      <td>브라질 시위</td>\n",
       "      <td>남아메리카</td>\n",
       "      <td>브라질</td>\n",
       "      <td>2013</td>\n",
       "      <td>3.004823</td>\n",
       "      <td>3.97</td>\n",
       "      <td>2011</td>\n",
       "      <td>7.504544</td>\n",
       "      <td>8.318592</td>\n",
       "    </tr>\n",
       "    <tr>\n",
       "      <td>11</td>\n",
       "      <td>천안문 광장 시위</td>\n",
       "      <td>동아시아</td>\n",
       "      <td>중국</td>\n",
       "      <td>1989</td>\n",
       "      <td>4.185868</td>\n",
       "      <td>10.83</td>\n",
       "      <td>1983</td>\n",
       "      <td>8.623799</td>\n",
       "      <td>1.097460</td>\n",
       "    </tr>\n",
       "    <tr>\n",
       "      <td>12</td>\n",
       "      <td>천안문 사태 반대 시위</td>\n",
       "      <td>동아시아</td>\n",
       "      <td>홍콩</td>\n",
       "      <td>1989</td>\n",
       "      <td>2.276921</td>\n",
       "      <td>9.97</td>\n",
       "      <td>1984</td>\n",
       "      <td>12.559534</td>\n",
       "      <td>9.642059</td>\n",
       "    </tr>\n",
       "    <tr>\n",
       "      <td>13</td>\n",
       "      <td>우산혁명</td>\n",
       "      <td>동아시아</td>\n",
       "      <td>홍콩</td>\n",
       "      <td>2014</td>\n",
       "      <td>2.762394</td>\n",
       "      <td>4.81</td>\n",
       "      <td>2011</td>\n",
       "      <td>2.850293</td>\n",
       "      <td>3.897902</td>\n",
       "    </tr>\n",
       "    <tr>\n",
       "      <td>14</td>\n",
       "      <td>6월 민주항쟁</td>\n",
       "      <td>동아시아</td>\n",
       "      <td>대한민국</td>\n",
       "      <td>1987</td>\n",
       "      <td>12.467266</td>\n",
       "      <td>8.62</td>\n",
       "      <td>1979</td>\n",
       "      <td>4.948634</td>\n",
       "      <td>18.532455</td>\n",
       "    </tr>\n",
       "    <tr>\n",
       "      <td>15</td>\n",
       "      <td>박근혜 퇴진 운동</td>\n",
       "      <td>동아시아</td>\n",
       "      <td>대한민국</td>\n",
       "      <td>2016</td>\n",
       "      <td>2.929305</td>\n",
       "      <td>2.89</td>\n",
       "      <td>2013</td>\n",
       "      <td>1.977969</td>\n",
       "      <td>0.853334</td>\n",
       "    </tr>\n",
       "    <tr>\n",
       "      <td>16</td>\n",
       "      <td>샤프론 혁명</td>\n",
       "      <td>동아시아</td>\n",
       "      <td>미얀마</td>\n",
       "      <td>2007</td>\n",
       "      <td>11.991435</td>\n",
       "      <td>13.07</td>\n",
       "      <td>2006</td>\n",
       "      <td>23.643908</td>\n",
       "      <td>21.300499</td>\n",
       "    </tr>\n",
       "    <tr>\n",
       "      <td>17</td>\n",
       "      <td>백향목 혁명</td>\n",
       "      <td>중동</td>\n",
       "      <td>레바논</td>\n",
       "      <td>2005</td>\n",
       "      <td>2.748394</td>\n",
       "      <td>3.42</td>\n",
       "      <td>2002</td>\n",
       "      <td>-1.089530</td>\n",
       "      <td>4.921188</td>\n",
       "    </tr>\n",
       "    <tr>\n",
       "      <td>18</td>\n",
       "      <td>터키 반정부 시위</td>\n",
       "      <td>중동</td>\n",
       "      <td>터키</td>\n",
       "      <td>2013</td>\n",
       "      <td>8.491309</td>\n",
       "      <td>7.10</td>\n",
       "      <td>2006</td>\n",
       "      <td>6.268814</td>\n",
       "      <td>9.371704</td>\n",
       "    </tr>\n",
       "    <tr>\n",
       "      <td>19</td>\n",
       "      <td>쟈스민 혁명</td>\n",
       "      <td>중동</td>\n",
       "      <td>튀니지</td>\n",
       "      <td>2010</td>\n",
       "      <td>3.510609</td>\n",
       "      <td>4.23</td>\n",
       "      <td>2008</td>\n",
       "      <td>3.815415</td>\n",
       "      <td>6.346362</td>\n",
       "    </tr>\n",
       "    <tr>\n",
       "      <td>21</td>\n",
       "      <td>시리아 내전</td>\n",
       "      <td>중동</td>\n",
       "      <td>시리아</td>\n",
       "      <td>2008</td>\n",
       "      <td>3.400000</td>\n",
       "      <td>5.20</td>\n",
       "      <td>2001</td>\n",
       "      <td>11.967172</td>\n",
       "      <td>4.563572</td>\n",
       "    </tr>\n",
       "  </tbody>\n",
       "</table>\n",
       "</div>"
      ],
      "text/plain": [
       "                명칭     대륙    국가    연도  당해 GDP 성장율  지난 9년 성장율 중위  기준연도(중위 연도)  \\\n",
       "사례번호                                                                           \n",
       "6         대선 불복 시위  남아메리카  볼리비아  2019    4.223625          4.85         2015   \n",
       "7        칠레 반정부 시위  남아메리카    칠레  2019    4.024653          2.30         2015   \n",
       "9           브라질 시위  남아메리카   브라질  2013    3.004823          3.97         2011   \n",
       "11       천안문 광장 시위   동아시아    중국  1989    4.185868         10.83         1983   \n",
       "12    천안문 사태 반대 시위   동아시아    홍콩  1989    2.276921          9.97         1984   \n",
       "13            우산혁명   동아시아    홍콩  2014    2.762394          4.81         2011   \n",
       "14         6월 민주항쟁   동아시아  대한민국  1987   12.467266          8.62         1979   \n",
       "15       박근혜 퇴진 운동   동아시아  대한민국  2016    2.929305          2.89         2013   \n",
       "16          샤프론 혁명   동아시아   미얀마  2007   11.991435         13.07         2006   \n",
       "17          백향목 혁명     중동   레바논  2005    2.748394          3.42         2002   \n",
       "18       터키 반정부 시위     중동    터키  2013    8.491309          7.10         2006   \n",
       "19          쟈스민 혁명     중동   튀니지  2010    3.510609          4.23         2008   \n",
       "21          시리아 내전     중동   시리아  2008    3.400000          5.20         2001   \n",
       "\n",
       "      당해 물가 상승률  기준연도 물가 상승률  \n",
       "사례번호                          \n",
       "6      3.056264    -4.620603  \n",
       "7      2.018808     4.953538  \n",
       "9      7.504544     8.318592  \n",
       "11     8.623799     1.097460  \n",
       "12    12.559534     9.642059  \n",
       "13     2.850293     3.897902  \n",
       "14     4.948634    18.532455  \n",
       "15     1.977969     0.853334  \n",
       "16    23.643908    21.300499  \n",
       "17    -1.089530     4.921188  \n",
       "18     6.268814     9.371704  \n",
       "19     3.815415     6.346362  \n",
       "21    11.967172     4.563572  "
      ]
     },
     "execution_count": 188,
     "metadata": {},
     "output_type": "execute_result"
    }
   ],
   "source": [
    "data.loc[data[\"당해 GDP 성장율\"]>2,:]"
   ]
  },
  {
   "cell_type": "markdown",
   "metadata": {},
   "source": [
    "### c.기초 기능"
   ]
  },
  {
   "cell_type": "markdown",
   "metadata": {},
   "source": [
    "head,tail로 처음과 끝의 5개 자료 반환 가능"
   ]
  },
  {
   "cell_type": "code",
   "execution_count": 189,
   "metadata": {},
   "outputs": [
    {
     "data": {
      "text/html": [
       "<div>\n",
       "<style scoped>\n",
       "    .dataframe tbody tr th:only-of-type {\n",
       "        vertical-align: middle;\n",
       "    }\n",
       "\n",
       "    .dataframe tbody tr th {\n",
       "        vertical-align: top;\n",
       "    }\n",
       "\n",
       "    .dataframe thead th {\n",
       "        text-align: right;\n",
       "    }\n",
       "</style>\n",
       "<table border=\"1\" class=\"dataframe\">\n",
       "  <thead>\n",
       "    <tr style=\"text-align: right;\">\n",
       "      <th></th>\n",
       "      <th>명칭</th>\n",
       "      <th>대륙</th>\n",
       "      <th>국가</th>\n",
       "      <th>연도</th>\n",
       "      <th>당해 GDP 성장율</th>\n",
       "      <th>지난 9년 성장율 중위</th>\n",
       "      <th>기준연도(중위 연도)</th>\n",
       "      <th>당해 물가 상승률</th>\n",
       "      <th>기준연도 물가 상승률</th>\n",
       "    </tr>\n",
       "    <tr>\n",
       "      <th>사례번호</th>\n",
       "      <th></th>\n",
       "      <th></th>\n",
       "      <th></th>\n",
       "      <th></th>\n",
       "      <th></th>\n",
       "      <th></th>\n",
       "      <th></th>\n",
       "      <th></th>\n",
       "      <th></th>\n",
       "    </tr>\n",
       "  </thead>\n",
       "  <tbody>\n",
       "    <tr>\n",
       "      <td>1</td>\n",
       "      <td>노동법 개정 반대 시위</td>\n",
       "      <td>유럽</td>\n",
       "      <td>이탈리아</td>\n",
       "      <td>2002</td>\n",
       "      <td>0.240000</td>\n",
       "      <td>1.77</td>\n",
       "      <td>2001</td>\n",
       "      <td>3.35</td>\n",
       "      <td>2.98</td>\n",
       "    </tr>\n",
       "    <tr>\n",
       "      <td>2</td>\n",
       "      <td>카탈루냐 분리독립시위</td>\n",
       "      <td>유럽</td>\n",
       "      <td>스페인</td>\n",
       "      <td>2014</td>\n",
       "      <td>1.370000</td>\n",
       "      <td>0.01</td>\n",
       "      <td>2010</td>\n",
       "      <td>-0.19</td>\n",
       "      <td>0.16</td>\n",
       "    </tr>\n",
       "    <tr>\n",
       "      <td>3</td>\n",
       "      <td>노란 조끼 시위</td>\n",
       "      <td>유럽</td>\n",
       "      <td>프랑스</td>\n",
       "      <td>2018</td>\n",
       "      <td>1.724881</td>\n",
       "      <td>1.05</td>\n",
       "      <td>2016</td>\n",
       "      <td>0.78</td>\n",
       "      <td>0.52</td>\n",
       "    </tr>\n",
       "    <tr>\n",
       "      <td>4</td>\n",
       "      <td>브렉시트 반대시위</td>\n",
       "      <td>유럽</td>\n",
       "      <td>영국</td>\n",
       "      <td>2019</td>\n",
       "      <td>1.390000</td>\n",
       "      <td>1.78</td>\n",
       "      <td>2016</td>\n",
       "      <td>1.89</td>\n",
       "      <td>0.43</td>\n",
       "    </tr>\n",
       "    <tr>\n",
       "      <td>5</td>\n",
       "      <td>푸른혁명</td>\n",
       "      <td>유럽</td>\n",
       "      <td>불가리아</td>\n",
       "      <td>1989</td>\n",
       "      <td>-3.289882</td>\n",
       "      <td>3.43</td>\n",
       "      <td>1983</td>\n",
       "      <td>6.72</td>\n",
       "      <td>-0.64</td>\n",
       "    </tr>\n",
       "  </tbody>\n",
       "</table>\n",
       "</div>"
      ],
      "text/plain": [
       "                명칭  대륙    국가    연도  당해 GDP 성장율  지난 9년 성장율 중위  기준연도(중위 연도)  \\\n",
       "사례번호                                                                        \n",
       "1     노동법 개정 반대 시위  유럽  이탈리아  2002    0.240000          1.77         2001   \n",
       "2      카탈루냐 분리독립시위  유럽   스페인  2014    1.370000          0.01         2010   \n",
       "3         노란 조끼 시위  유럽   프랑스  2018    1.724881          1.05         2016   \n",
       "4        브렉시트 반대시위  유럽    영국  2019    1.390000          1.78         2016   \n",
       "5             푸른혁명  유럽  불가리아  1989   -3.289882          3.43         1983   \n",
       "\n",
       "      당해 물가 상승률  기준연도 물가 상승률  \n",
       "사례번호                          \n",
       "1          3.35         2.98  \n",
       "2         -0.19         0.16  \n",
       "3          0.78         0.52  \n",
       "4          1.89         0.43  \n",
       "5          6.72        -0.64  "
      ]
     },
     "execution_count": 189,
     "metadata": {},
     "output_type": "execute_result"
    }
   ],
   "source": [
    "data.head()"
   ]
  },
  {
   "cell_type": "code",
   "execution_count": 190,
   "metadata": {},
   "outputs": [
    {
     "data": {
      "text/html": [
       "<div>\n",
       "<style scoped>\n",
       "    .dataframe tbody tr th:only-of-type {\n",
       "        vertical-align: middle;\n",
       "    }\n",
       "\n",
       "    .dataframe tbody tr th {\n",
       "        vertical-align: top;\n",
       "    }\n",
       "\n",
       "    .dataframe thead th {\n",
       "        text-align: right;\n",
       "    }\n",
       "</style>\n",
       "<table border=\"1\" class=\"dataframe\">\n",
       "  <thead>\n",
       "    <tr style=\"text-align: right;\">\n",
       "      <th></th>\n",
       "      <th>명칭</th>\n",
       "      <th>대륙</th>\n",
       "      <th>국가</th>\n",
       "      <th>연도</th>\n",
       "      <th>당해 GDP 성장율</th>\n",
       "      <th>지난 9년 성장율 중위</th>\n",
       "      <th>기준연도(중위 연도)</th>\n",
       "      <th>당해 물가 상승률</th>\n",
       "      <th>기준연도 물가 상승률</th>\n",
       "    </tr>\n",
       "    <tr>\n",
       "      <th>사례번호</th>\n",
       "      <th></th>\n",
       "      <th></th>\n",
       "      <th></th>\n",
       "      <th></th>\n",
       "      <th></th>\n",
       "      <th></th>\n",
       "      <th></th>\n",
       "      <th></th>\n",
       "      <th></th>\n",
       "    </tr>\n",
       "  </thead>\n",
       "  <tbody>\n",
       "    <tr>\n",
       "      <td>18</td>\n",
       "      <td>터키 반정부 시위</td>\n",
       "      <td>중동</td>\n",
       "      <td>터키</td>\n",
       "      <td>2013</td>\n",
       "      <td>8.491309</td>\n",
       "      <td>7.10</td>\n",
       "      <td>2006</td>\n",
       "      <td>6.268814</td>\n",
       "      <td>9.371704</td>\n",
       "    </tr>\n",
       "    <tr>\n",
       "      <td>19</td>\n",
       "      <td>쟈스민 혁명</td>\n",
       "      <td>중동</td>\n",
       "      <td>튀니지</td>\n",
       "      <td>2010</td>\n",
       "      <td>3.510609</td>\n",
       "      <td>4.23</td>\n",
       "      <td>2008</td>\n",
       "      <td>3.815415</td>\n",
       "      <td>6.346362</td>\n",
       "    </tr>\n",
       "    <tr>\n",
       "      <td>20</td>\n",
       "      <td>이집트 혁명</td>\n",
       "      <td>중동</td>\n",
       "      <td>이집트</td>\n",
       "      <td>2011</td>\n",
       "      <td>1.764572</td>\n",
       "      <td>4.67</td>\n",
       "      <td>2009</td>\n",
       "      <td>11.662976</td>\n",
       "      <td>11.185542</td>\n",
       "    </tr>\n",
       "    <tr>\n",
       "      <td>21</td>\n",
       "      <td>시리아 내전</td>\n",
       "      <td>중동</td>\n",
       "      <td>시리아</td>\n",
       "      <td>2008</td>\n",
       "      <td>3.400000</td>\n",
       "      <td>5.20</td>\n",
       "      <td>2001</td>\n",
       "      <td>11.967172</td>\n",
       "      <td>4.563572</td>\n",
       "    </tr>\n",
       "    <tr>\n",
       "      <td>22</td>\n",
       "      <td>리비아 내전</td>\n",
       "      <td>중동</td>\n",
       "      <td>리비아</td>\n",
       "      <td>2009</td>\n",
       "      <td>-0.790000</td>\n",
       "      <td>4.46</td>\n",
       "      <td>2004</td>\n",
       "      <td>-25.312796</td>\n",
       "      <td>22.605353</td>\n",
       "    </tr>\n",
       "  </tbody>\n",
       "</table>\n",
       "</div>"
      ],
      "text/plain": [
       "             명칭  대륙   국가    연도  당해 GDP 성장율  지난 9년 성장율 중위  기준연도(중위 연도)  \\\n",
       "사례번호                                                                    \n",
       "18    터키 반정부 시위  중동   터키  2013    8.491309          7.10         2006   \n",
       "19       쟈스민 혁명  중동  튀니지  2010    3.510609          4.23         2008   \n",
       "20       이집트 혁명  중동  이집트  2011    1.764572          4.67         2009   \n",
       "21       시리아 내전  중동  시리아  2008    3.400000          5.20         2001   \n",
       "22       리비아 내전  중동  리비아  2009   -0.790000          4.46         2004   \n",
       "\n",
       "      당해 물가 상승률  기준연도 물가 상승률  \n",
       "사례번호                          \n",
       "18     6.268814     9.371704  \n",
       "19     3.815415     6.346362  \n",
       "20    11.662976    11.185542  \n",
       "21    11.967172     4.563572  \n",
       "22   -25.312796    22.605353  "
      ]
     },
     "execution_count": 190,
     "metadata": {},
     "output_type": "execute_result"
    }
   ],
   "source": [
    "data.tail()"
   ]
  },
  {
   "cell_type": "markdown",
   "metadata": {},
   "source": [
    ".info() 으로 여러가지 정보를 볼 수 있음"
   ]
  },
  {
   "cell_type": "code",
   "execution_count": 191,
   "metadata": {},
   "outputs": [
    {
     "name": "stdout",
     "output_type": "stream",
     "text": [
      "<class 'pandas.core.frame.DataFrame'>\n",
      "Int64Index: 22 entries, 1 to 22\n",
      "Data columns (total 9 columns):\n",
      "명칭              22 non-null object\n",
      "대륙              22 non-null object\n",
      "국가              22 non-null object\n",
      "연도              22 non-null int64\n",
      "당해 GDP 성장율      22 non-null float64\n",
      "지난 9년 성장율 중위    22 non-null float64\n",
      "기준연도(중위 연도)     22 non-null int64\n",
      "당해 물가 상승률       22 non-null float64\n",
      "기준연도 물가 상승률     22 non-null float64\n",
      "dtypes: float64(4), int64(2), object(3)\n",
      "memory usage: 2.3+ KB\n"
     ]
    }
   ],
   "source": [
    "data.info()\n",
    "# 클래스\n",
    "# 인덱스\n",
    "# 컬럼 (컬럼명, 타입, 개수, Nan 개수 데이트 타입)\n",
    "# 메모리 할당"
   ]
  },
  {
   "cell_type": "markdown",
   "metadata": {},
   "source": [
    ".shape() 으로 모양을 체크 할 수 있음"
   ]
  },
  {
   "cell_type": "code",
   "execution_count": 192,
   "metadata": {},
   "outputs": [
    {
     "data": {
      "text/plain": [
       "(22, 9)"
      ]
     },
     "execution_count": 192,
     "metadata": {},
     "output_type": "execute_result"
    }
   ],
   "source": [
    "data.shape"
   ]
  },
  {
   "cell_type": "markdown",
   "metadata": {},
   "source": [
    ".append() 로 행 추가 가능"
   ]
  },
  {
   "cell_type": "code",
   "execution_count": 194,
   "metadata": {},
   "outputs": [
    {
     "data": {
      "text/html": [
       "<div>\n",
       "<style scoped>\n",
       "    .dataframe tbody tr th:only-of-type {\n",
       "        vertical-align: middle;\n",
       "    }\n",
       "\n",
       "    .dataframe tbody tr th {\n",
       "        vertical-align: top;\n",
       "    }\n",
       "\n",
       "    .dataframe thead th {\n",
       "        text-align: right;\n",
       "    }\n",
       "</style>\n",
       "<table border=\"1\" class=\"dataframe\">\n",
       "  <thead>\n",
       "    <tr style=\"text-align: right;\">\n",
       "      <th></th>\n",
       "      <th>rice</th>\n",
       "      <th>bread</th>\n",
       "    </tr>\n",
       "  </thead>\n",
       "  <tbody>\n",
       "    <tr>\n",
       "      <td>June</td>\n",
       "      <td>3</td>\n",
       "      <td>0</td>\n",
       "    </tr>\n",
       "    <tr>\n",
       "      <td>Robert</td>\n",
       "      <td>2</td>\n",
       "      <td>3</td>\n",
       "    </tr>\n",
       "    <tr>\n",
       "      <td>Lily</td>\n",
       "      <td>0</td>\n",
       "      <td>7</td>\n",
       "    </tr>\n",
       "    <tr>\n",
       "      <td>David</td>\n",
       "      <td>1</td>\n",
       "      <td>2</td>\n",
       "    </tr>\n",
       "  </tbody>\n",
       "</table>\n",
       "</div>"
      ],
      "text/plain": [
       "        rice  bread\n",
       "June       3      0\n",
       "Robert     2      3\n",
       "Lily       0      7\n",
       "David      1      2"
      ]
     },
     "execution_count": 194,
     "metadata": {},
     "output_type": "execute_result"
    }
   ],
   "source": [
    "purchases"
   ]
  },
  {
   "cell_type": "code",
   "execution_count": 138,
   "metadata": {},
   "outputs": [
    {
     "data": {
      "text/html": [
       "<div>\n",
       "<style scoped>\n",
       "    .dataframe tbody tr th:only-of-type {\n",
       "        vertical-align: middle;\n",
       "    }\n",
       "\n",
       "    .dataframe tbody tr th {\n",
       "        vertical-align: top;\n",
       "    }\n",
       "\n",
       "    .dataframe thead th {\n",
       "        text-align: right;\n",
       "    }\n",
       "</style>\n",
       "<table border=\"1\" class=\"dataframe\">\n",
       "  <thead>\n",
       "    <tr style=\"text-align: right;\">\n",
       "      <th></th>\n",
       "      <th>apples</th>\n",
       "      <th>oranges</th>\n",
       "    </tr>\n",
       "  </thead>\n",
       "  <tbody>\n",
       "    <tr>\n",
       "      <td>Kim</td>\n",
       "      <td>2</td>\n",
       "      <td>3</td>\n",
       "    </tr>\n",
       "  </tbody>\n",
       "</table>\n",
       "</div>"
      ],
      "text/plain": [
       "     apples  oranges\n",
       "Kim       2        3"
      ]
     },
     "execution_count": 138,
     "metadata": {},
     "output_type": "execute_result"
    }
   ],
   "source": [
    "pd.DataFrame({\"apples\":2,\"oranges\":3},index=[\"Kim\"])"
   ]
  },
  {
   "cell_type": "code",
   "execution_count": 139,
   "metadata": {},
   "outputs": [
    {
     "data": {
      "text/html": [
       "<div>\n",
       "<style scoped>\n",
       "    .dataframe tbody tr th:only-of-type {\n",
       "        vertical-align: middle;\n",
       "    }\n",
       "\n",
       "    .dataframe tbody tr th {\n",
       "        vertical-align: top;\n",
       "    }\n",
       "\n",
       "    .dataframe thead th {\n",
       "        text-align: right;\n",
       "    }\n",
       "</style>\n",
       "<table border=\"1\" class=\"dataframe\">\n",
       "  <thead>\n",
       "    <tr style=\"text-align: right;\">\n",
       "      <th></th>\n",
       "      <th>apples</th>\n",
       "      <th>oranges</th>\n",
       "    </tr>\n",
       "  </thead>\n",
       "  <tbody>\n",
       "    <tr>\n",
       "      <td>June</td>\n",
       "      <td>3</td>\n",
       "      <td>0</td>\n",
       "    </tr>\n",
       "    <tr>\n",
       "      <td>Robert</td>\n",
       "      <td>2</td>\n",
       "      <td>3</td>\n",
       "    </tr>\n",
       "    <tr>\n",
       "      <td>Lily</td>\n",
       "      <td>0</td>\n",
       "      <td>7</td>\n",
       "    </tr>\n",
       "    <tr>\n",
       "      <td>David</td>\n",
       "      <td>1</td>\n",
       "      <td>2</td>\n",
       "    </tr>\n",
       "    <tr>\n",
       "      <td>Kim</td>\n",
       "      <td>2</td>\n",
       "      <td>3</td>\n",
       "    </tr>\n",
       "  </tbody>\n",
       "</table>\n",
       "</div>"
      ],
      "text/plain": [
       "        apples  oranges\n",
       "June         3        0\n",
       "Robert       2        3\n",
       "Lily         0        7\n",
       "David        1        2\n",
       "Kim          2        3"
      ]
     },
     "execution_count": 139,
     "metadata": {},
     "output_type": "execute_result"
    }
   ],
   "source": [
    "purchases.append(pd.DataFrame({\"apples\":2,\"oranges\":3},index=[\"Kim\"]))"
   ]
  },
  {
   "cell_type": "markdown",
   "metadata": {},
   "source": [
    "list랑 달리 기존 데이터 프레임에 바로 업데이트는 안되기에 할당을 따로 해줘야함"
   ]
  },
  {
   "cell_type": "markdown",
   "metadata": {},
   "source": [
    ".columns, .index 로 행이름/열이름 반환가능"
   ]
  },
  {
   "cell_type": "code",
   "execution_count": 195,
   "metadata": {},
   "outputs": [
    {
     "data": {
      "text/plain": [
       "Index(['명칭', '대륙', '국가', '연도', '당해 GDP 성장율', '지난 9년 성장율 중위', '기준연도(중위 연도)',\n",
       "       '당해 물가 상승률', '기준연도 물가 상승률'],\n",
       "      dtype='object')"
      ]
     },
     "execution_count": 195,
     "metadata": {},
     "output_type": "execute_result"
    }
   ],
   "source": [
    "data.columns"
   ]
  },
  {
   "cell_type": "code",
   "execution_count": 196,
   "metadata": {},
   "outputs": [
    {
     "data": {
      "text/plain": [
       "Int64Index([1, 2, 3, 4, 5, 6, 7, 8, 9, 10, 11, 12, 13, 14, 15, 16, 17, 18, 19,\n",
       "            20, 21, 22],\n",
       "           dtype='int64', name='사례번호')"
      ]
     },
     "execution_count": 196,
     "metadata": {},
     "output_type": "execute_result"
    }
   ],
   "source": [
    "data.index"
   ]
  },
  {
   "cell_type": "markdown",
   "metadata": {},
   "source": [
    "아래의 방식으로 행이름/열이름 수정가능"
   ]
  },
  {
   "cell_type": "code",
   "execution_count": 149,
   "metadata": {},
   "outputs": [],
   "source": [
    "purchases.columns = [\"rice\",\"bread\"]"
   ]
  },
  {
   "cell_type": "code",
   "execution_count": 151,
   "metadata": {},
   "outputs": [
    {
     "data": {
      "text/html": [
       "<div>\n",
       "<style scoped>\n",
       "    .dataframe tbody tr th:only-of-type {\n",
       "        vertical-align: middle;\n",
       "    }\n",
       "\n",
       "    .dataframe tbody tr th {\n",
       "        vertical-align: top;\n",
       "    }\n",
       "\n",
       "    .dataframe thead th {\n",
       "        text-align: right;\n",
       "    }\n",
       "</style>\n",
       "<table border=\"1\" class=\"dataframe\">\n",
       "  <thead>\n",
       "    <tr style=\"text-align: right;\">\n",
       "      <th></th>\n",
       "      <th>rice</th>\n",
       "      <th>bread</th>\n",
       "    </tr>\n",
       "  </thead>\n",
       "  <tbody>\n",
       "    <tr>\n",
       "      <td>June</td>\n",
       "      <td>3</td>\n",
       "      <td>0</td>\n",
       "    </tr>\n",
       "    <tr>\n",
       "      <td>Robert</td>\n",
       "      <td>2</td>\n",
       "      <td>3</td>\n",
       "    </tr>\n",
       "    <tr>\n",
       "      <td>Lily</td>\n",
       "      <td>0</td>\n",
       "      <td>7</td>\n",
       "    </tr>\n",
       "    <tr>\n",
       "      <td>David</td>\n",
       "      <td>1</td>\n",
       "      <td>2</td>\n",
       "    </tr>\n",
       "  </tbody>\n",
       "</table>\n",
       "</div>"
      ],
      "text/plain": [
       "        rice  bread\n",
       "June       3      0\n",
       "Robert     2      3\n",
       "Lily       0      7\n",
       "David      1      2"
      ]
     },
     "execution_count": 151,
     "metadata": {},
     "output_type": "execute_result"
    }
   ],
   "source": [
    "purchases"
   ]
  },
  {
   "cell_type": "markdown",
   "metadata": {},
   "source": [
    "### d. 결측값 처리"
   ]
  },
  {
   "cell_type": "markdown",
   "metadata": {},
   "source": [
    "결측값 위치 반환"
   ]
  },
  {
   "cell_type": "code",
   "execution_count": 197,
   "metadata": {},
   "outputs": [
    {
     "data": {
      "text/html": [
       "<div>\n",
       "<style scoped>\n",
       "    .dataframe tbody tr th:only-of-type {\n",
       "        vertical-align: middle;\n",
       "    }\n",
       "\n",
       "    .dataframe tbody tr th {\n",
       "        vertical-align: top;\n",
       "    }\n",
       "\n",
       "    .dataframe thead th {\n",
       "        text-align: right;\n",
       "    }\n",
       "</style>\n",
       "<table border=\"1\" class=\"dataframe\">\n",
       "  <thead>\n",
       "    <tr style=\"text-align: right;\">\n",
       "      <th></th>\n",
       "      <th>명칭</th>\n",
       "      <th>대륙</th>\n",
       "      <th>국가</th>\n",
       "      <th>연도</th>\n",
       "      <th>당해 GDP 성장율</th>\n",
       "      <th>지난 9년 성장율 중위</th>\n",
       "      <th>기준연도(중위 연도)</th>\n",
       "      <th>당해 물가 상승률</th>\n",
       "      <th>기준연도 물가 상승률</th>\n",
       "    </tr>\n",
       "    <tr>\n",
       "      <th>사례번호</th>\n",
       "      <th></th>\n",
       "      <th></th>\n",
       "      <th></th>\n",
       "      <th></th>\n",
       "      <th></th>\n",
       "      <th></th>\n",
       "      <th></th>\n",
       "      <th></th>\n",
       "      <th></th>\n",
       "    </tr>\n",
       "  </thead>\n",
       "  <tbody>\n",
       "    <tr>\n",
       "      <td>1</td>\n",
       "      <td>False</td>\n",
       "      <td>False</td>\n",
       "      <td>False</td>\n",
       "      <td>False</td>\n",
       "      <td>False</td>\n",
       "      <td>False</td>\n",
       "      <td>False</td>\n",
       "      <td>False</td>\n",
       "      <td>False</td>\n",
       "    </tr>\n",
       "    <tr>\n",
       "      <td>2</td>\n",
       "      <td>False</td>\n",
       "      <td>False</td>\n",
       "      <td>False</td>\n",
       "      <td>False</td>\n",
       "      <td>False</td>\n",
       "      <td>False</td>\n",
       "      <td>False</td>\n",
       "      <td>False</td>\n",
       "      <td>False</td>\n",
       "    </tr>\n",
       "    <tr>\n",
       "      <td>3</td>\n",
       "      <td>False</td>\n",
       "      <td>False</td>\n",
       "      <td>False</td>\n",
       "      <td>False</td>\n",
       "      <td>False</td>\n",
       "      <td>False</td>\n",
       "      <td>False</td>\n",
       "      <td>False</td>\n",
       "      <td>False</td>\n",
       "    </tr>\n",
       "    <tr>\n",
       "      <td>4</td>\n",
       "      <td>False</td>\n",
       "      <td>False</td>\n",
       "      <td>False</td>\n",
       "      <td>False</td>\n",
       "      <td>False</td>\n",
       "      <td>False</td>\n",
       "      <td>False</td>\n",
       "      <td>False</td>\n",
       "      <td>False</td>\n",
       "    </tr>\n",
       "    <tr>\n",
       "      <td>5</td>\n",
       "      <td>False</td>\n",
       "      <td>False</td>\n",
       "      <td>False</td>\n",
       "      <td>False</td>\n",
       "      <td>False</td>\n",
       "      <td>False</td>\n",
       "      <td>False</td>\n",
       "      <td>False</td>\n",
       "      <td>False</td>\n",
       "    </tr>\n",
       "    <tr>\n",
       "      <td>6</td>\n",
       "      <td>False</td>\n",
       "      <td>False</td>\n",
       "      <td>False</td>\n",
       "      <td>False</td>\n",
       "      <td>False</td>\n",
       "      <td>False</td>\n",
       "      <td>False</td>\n",
       "      <td>False</td>\n",
       "      <td>False</td>\n",
       "    </tr>\n",
       "    <tr>\n",
       "      <td>7</td>\n",
       "      <td>False</td>\n",
       "      <td>False</td>\n",
       "      <td>False</td>\n",
       "      <td>False</td>\n",
       "      <td>False</td>\n",
       "      <td>False</td>\n",
       "      <td>False</td>\n",
       "      <td>False</td>\n",
       "      <td>False</td>\n",
       "    </tr>\n",
       "    <tr>\n",
       "      <td>8</td>\n",
       "      <td>False</td>\n",
       "      <td>False</td>\n",
       "      <td>False</td>\n",
       "      <td>False</td>\n",
       "      <td>False</td>\n",
       "      <td>False</td>\n",
       "      <td>False</td>\n",
       "      <td>False</td>\n",
       "      <td>False</td>\n",
       "    </tr>\n",
       "    <tr>\n",
       "      <td>9</td>\n",
       "      <td>False</td>\n",
       "      <td>False</td>\n",
       "      <td>False</td>\n",
       "      <td>False</td>\n",
       "      <td>False</td>\n",
       "      <td>False</td>\n",
       "      <td>False</td>\n",
       "      <td>False</td>\n",
       "      <td>False</td>\n",
       "    </tr>\n",
       "    <tr>\n",
       "      <td>10</td>\n",
       "      <td>False</td>\n",
       "      <td>False</td>\n",
       "      <td>False</td>\n",
       "      <td>False</td>\n",
       "      <td>False</td>\n",
       "      <td>False</td>\n",
       "      <td>False</td>\n",
       "      <td>False</td>\n",
       "      <td>False</td>\n",
       "    </tr>\n",
       "    <tr>\n",
       "      <td>11</td>\n",
       "      <td>False</td>\n",
       "      <td>False</td>\n",
       "      <td>False</td>\n",
       "      <td>False</td>\n",
       "      <td>False</td>\n",
       "      <td>False</td>\n",
       "      <td>False</td>\n",
       "      <td>False</td>\n",
       "      <td>False</td>\n",
       "    </tr>\n",
       "    <tr>\n",
       "      <td>12</td>\n",
       "      <td>False</td>\n",
       "      <td>False</td>\n",
       "      <td>False</td>\n",
       "      <td>False</td>\n",
       "      <td>False</td>\n",
       "      <td>False</td>\n",
       "      <td>False</td>\n",
       "      <td>False</td>\n",
       "      <td>False</td>\n",
       "    </tr>\n",
       "    <tr>\n",
       "      <td>13</td>\n",
       "      <td>False</td>\n",
       "      <td>False</td>\n",
       "      <td>False</td>\n",
       "      <td>False</td>\n",
       "      <td>False</td>\n",
       "      <td>False</td>\n",
       "      <td>False</td>\n",
       "      <td>False</td>\n",
       "      <td>False</td>\n",
       "    </tr>\n",
       "    <tr>\n",
       "      <td>14</td>\n",
       "      <td>False</td>\n",
       "      <td>False</td>\n",
       "      <td>False</td>\n",
       "      <td>False</td>\n",
       "      <td>False</td>\n",
       "      <td>False</td>\n",
       "      <td>False</td>\n",
       "      <td>False</td>\n",
       "      <td>False</td>\n",
       "    </tr>\n",
       "    <tr>\n",
       "      <td>15</td>\n",
       "      <td>False</td>\n",
       "      <td>False</td>\n",
       "      <td>False</td>\n",
       "      <td>False</td>\n",
       "      <td>False</td>\n",
       "      <td>False</td>\n",
       "      <td>False</td>\n",
       "      <td>False</td>\n",
       "      <td>False</td>\n",
       "    </tr>\n",
       "    <tr>\n",
       "      <td>16</td>\n",
       "      <td>False</td>\n",
       "      <td>False</td>\n",
       "      <td>False</td>\n",
       "      <td>False</td>\n",
       "      <td>False</td>\n",
       "      <td>False</td>\n",
       "      <td>False</td>\n",
       "      <td>False</td>\n",
       "      <td>False</td>\n",
       "    </tr>\n",
       "    <tr>\n",
       "      <td>17</td>\n",
       "      <td>False</td>\n",
       "      <td>False</td>\n",
       "      <td>False</td>\n",
       "      <td>False</td>\n",
       "      <td>False</td>\n",
       "      <td>False</td>\n",
       "      <td>False</td>\n",
       "      <td>False</td>\n",
       "      <td>False</td>\n",
       "    </tr>\n",
       "    <tr>\n",
       "      <td>18</td>\n",
       "      <td>False</td>\n",
       "      <td>False</td>\n",
       "      <td>False</td>\n",
       "      <td>False</td>\n",
       "      <td>False</td>\n",
       "      <td>False</td>\n",
       "      <td>False</td>\n",
       "      <td>False</td>\n",
       "      <td>False</td>\n",
       "    </tr>\n",
       "    <tr>\n",
       "      <td>19</td>\n",
       "      <td>False</td>\n",
       "      <td>False</td>\n",
       "      <td>False</td>\n",
       "      <td>False</td>\n",
       "      <td>False</td>\n",
       "      <td>False</td>\n",
       "      <td>False</td>\n",
       "      <td>False</td>\n",
       "      <td>False</td>\n",
       "    </tr>\n",
       "    <tr>\n",
       "      <td>20</td>\n",
       "      <td>False</td>\n",
       "      <td>False</td>\n",
       "      <td>False</td>\n",
       "      <td>False</td>\n",
       "      <td>False</td>\n",
       "      <td>False</td>\n",
       "      <td>False</td>\n",
       "      <td>False</td>\n",
       "      <td>False</td>\n",
       "    </tr>\n",
       "    <tr>\n",
       "      <td>21</td>\n",
       "      <td>False</td>\n",
       "      <td>False</td>\n",
       "      <td>False</td>\n",
       "      <td>False</td>\n",
       "      <td>False</td>\n",
       "      <td>False</td>\n",
       "      <td>False</td>\n",
       "      <td>False</td>\n",
       "      <td>False</td>\n",
       "    </tr>\n",
       "    <tr>\n",
       "      <td>22</td>\n",
       "      <td>False</td>\n",
       "      <td>False</td>\n",
       "      <td>False</td>\n",
       "      <td>False</td>\n",
       "      <td>False</td>\n",
       "      <td>False</td>\n",
       "      <td>False</td>\n",
       "      <td>False</td>\n",
       "      <td>False</td>\n",
       "    </tr>\n",
       "  </tbody>\n",
       "</table>\n",
       "</div>"
      ],
      "text/plain": [
       "         명칭     대륙     국가     연도  당해 GDP 성장율  지난 9년 성장율 중위  기준연도(중위 연도)  \\\n",
       "사례번호                                                                      \n",
       "1     False  False  False  False       False         False        False   \n",
       "2     False  False  False  False       False         False        False   \n",
       "3     False  False  False  False       False         False        False   \n",
       "4     False  False  False  False       False         False        False   \n",
       "5     False  False  False  False       False         False        False   \n",
       "6     False  False  False  False       False         False        False   \n",
       "7     False  False  False  False       False         False        False   \n",
       "8     False  False  False  False       False         False        False   \n",
       "9     False  False  False  False       False         False        False   \n",
       "10    False  False  False  False       False         False        False   \n",
       "11    False  False  False  False       False         False        False   \n",
       "12    False  False  False  False       False         False        False   \n",
       "13    False  False  False  False       False         False        False   \n",
       "14    False  False  False  False       False         False        False   \n",
       "15    False  False  False  False       False         False        False   \n",
       "16    False  False  False  False       False         False        False   \n",
       "17    False  False  False  False       False         False        False   \n",
       "18    False  False  False  False       False         False        False   \n",
       "19    False  False  False  False       False         False        False   \n",
       "20    False  False  False  False       False         False        False   \n",
       "21    False  False  False  False       False         False        False   \n",
       "22    False  False  False  False       False         False        False   \n",
       "\n",
       "      당해 물가 상승률  기준연도 물가 상승률  \n",
       "사례번호                          \n",
       "1         False        False  \n",
       "2         False        False  \n",
       "3         False        False  \n",
       "4         False        False  \n",
       "5         False        False  \n",
       "6         False        False  \n",
       "7         False        False  \n",
       "8         False        False  \n",
       "9         False        False  \n",
       "10        False        False  \n",
       "11        False        False  \n",
       "12        False        False  \n",
       "13        False        False  \n",
       "14        False        False  \n",
       "15        False        False  \n",
       "16        False        False  \n",
       "17        False        False  \n",
       "18        False        False  \n",
       "19        False        False  \n",
       "20        False        False  \n",
       "21        False        False  \n",
       "22        False        False  "
      ]
     },
     "execution_count": 197,
     "metadata": {},
     "output_type": "execute_result"
    }
   ],
   "source": [
    "data.isnull()"
   ]
  },
  {
   "cell_type": "markdown",
   "metadata": {},
   "source": [
    "결측값 모두 드랍"
   ]
  },
  {
   "cell_type": "code",
   "execution_count": 198,
   "metadata": {},
   "outputs": [
    {
     "data": {
      "text/html": [
       "<div>\n",
       "<style scoped>\n",
       "    .dataframe tbody tr th:only-of-type {\n",
       "        vertical-align: middle;\n",
       "    }\n",
       "\n",
       "    .dataframe tbody tr th {\n",
       "        vertical-align: top;\n",
       "    }\n",
       "\n",
       "    .dataframe thead th {\n",
       "        text-align: right;\n",
       "    }\n",
       "</style>\n",
       "<table border=\"1\" class=\"dataframe\">\n",
       "  <thead>\n",
       "    <tr style=\"text-align: right;\">\n",
       "      <th></th>\n",
       "      <th>명칭</th>\n",
       "      <th>대륙</th>\n",
       "      <th>국가</th>\n",
       "      <th>연도</th>\n",
       "      <th>당해 GDP 성장율</th>\n",
       "      <th>지난 9년 성장율 중위</th>\n",
       "      <th>기준연도(중위 연도)</th>\n",
       "      <th>당해 물가 상승률</th>\n",
       "      <th>기준연도 물가 상승률</th>\n",
       "    </tr>\n",
       "    <tr>\n",
       "      <th>사례번호</th>\n",
       "      <th></th>\n",
       "      <th></th>\n",
       "      <th></th>\n",
       "      <th></th>\n",
       "      <th></th>\n",
       "      <th></th>\n",
       "      <th></th>\n",
       "      <th></th>\n",
       "      <th></th>\n",
       "    </tr>\n",
       "  </thead>\n",
       "  <tbody>\n",
       "    <tr>\n",
       "      <td>1</td>\n",
       "      <td>노동법 개정 반대 시위</td>\n",
       "      <td>유럽</td>\n",
       "      <td>이탈리아</td>\n",
       "      <td>2002</td>\n",
       "      <td>0.240000</td>\n",
       "      <td>1.77</td>\n",
       "      <td>2001</td>\n",
       "      <td>3.350000</td>\n",
       "      <td>2.980000</td>\n",
       "    </tr>\n",
       "    <tr>\n",
       "      <td>2</td>\n",
       "      <td>카탈루냐 분리독립시위</td>\n",
       "      <td>유럽</td>\n",
       "      <td>스페인</td>\n",
       "      <td>2014</td>\n",
       "      <td>1.370000</td>\n",
       "      <td>0.01</td>\n",
       "      <td>2010</td>\n",
       "      <td>-0.190000</td>\n",
       "      <td>0.160000</td>\n",
       "    </tr>\n",
       "    <tr>\n",
       "      <td>3</td>\n",
       "      <td>노란 조끼 시위</td>\n",
       "      <td>유럽</td>\n",
       "      <td>프랑스</td>\n",
       "      <td>2018</td>\n",
       "      <td>1.724881</td>\n",
       "      <td>1.05</td>\n",
       "      <td>2016</td>\n",
       "      <td>0.780000</td>\n",
       "      <td>0.520000</td>\n",
       "    </tr>\n",
       "    <tr>\n",
       "      <td>4</td>\n",
       "      <td>브렉시트 반대시위</td>\n",
       "      <td>유럽</td>\n",
       "      <td>영국</td>\n",
       "      <td>2019</td>\n",
       "      <td>1.390000</td>\n",
       "      <td>1.78</td>\n",
       "      <td>2016</td>\n",
       "      <td>1.890000</td>\n",
       "      <td>0.430000</td>\n",
       "    </tr>\n",
       "    <tr>\n",
       "      <td>5</td>\n",
       "      <td>푸른혁명</td>\n",
       "      <td>유럽</td>\n",
       "      <td>불가리아</td>\n",
       "      <td>1989</td>\n",
       "      <td>-3.289882</td>\n",
       "      <td>3.43</td>\n",
       "      <td>1983</td>\n",
       "      <td>6.720000</td>\n",
       "      <td>-0.640000</td>\n",
       "    </tr>\n",
       "    <tr>\n",
       "      <td>6</td>\n",
       "      <td>대선 불복 시위</td>\n",
       "      <td>남아메리카</td>\n",
       "      <td>볼리비아</td>\n",
       "      <td>2019</td>\n",
       "      <td>4.223625</td>\n",
       "      <td>4.85</td>\n",
       "      <td>2015</td>\n",
       "      <td>3.056264</td>\n",
       "      <td>-4.620603</td>\n",
       "    </tr>\n",
       "    <tr>\n",
       "      <td>7</td>\n",
       "      <td>칠레 반정부 시위</td>\n",
       "      <td>남아메리카</td>\n",
       "      <td>칠레</td>\n",
       "      <td>2019</td>\n",
       "      <td>4.024653</td>\n",
       "      <td>2.30</td>\n",
       "      <td>2015</td>\n",
       "      <td>2.018808</td>\n",
       "      <td>4.953538</td>\n",
       "    </tr>\n",
       "    <tr>\n",
       "      <td>8</td>\n",
       "      <td>마두로 퇴진 운동</td>\n",
       "      <td>남아메리카</td>\n",
       "      <td>베네수엘라</td>\n",
       "      <td>2015</td>\n",
       "      <td>-3.800000</td>\n",
       "      <td>4.17</td>\n",
       "      <td>2011</td>\n",
       "      <td>40.440490</td>\n",
       "      <td>28.149191</td>\n",
       "    </tr>\n",
       "    <tr>\n",
       "      <td>9</td>\n",
       "      <td>브라질 시위</td>\n",
       "      <td>남아메리카</td>\n",
       "      <td>브라질</td>\n",
       "      <td>2013</td>\n",
       "      <td>3.004823</td>\n",
       "      <td>3.97</td>\n",
       "      <td>2011</td>\n",
       "      <td>7.504544</td>\n",
       "      <td>8.318592</td>\n",
       "    </tr>\n",
       "    <tr>\n",
       "      <td>10</td>\n",
       "      <td>피플 파워 혁명</td>\n",
       "      <td>동아시아</td>\n",
       "      <td>필리핀</td>\n",
       "      <td>1986</td>\n",
       "      <td>-7.306609</td>\n",
       "      <td>0.83</td>\n",
       "      <td>1977</td>\n",
       "      <td>2.952878</td>\n",
       "      <td>8.272876</td>\n",
       "    </tr>\n",
       "    <tr>\n",
       "      <td>11</td>\n",
       "      <td>천안문 광장 시위</td>\n",
       "      <td>동아시아</td>\n",
       "      <td>중국</td>\n",
       "      <td>1989</td>\n",
       "      <td>4.185868</td>\n",
       "      <td>10.83</td>\n",
       "      <td>1983</td>\n",
       "      <td>8.623799</td>\n",
       "      <td>1.097460</td>\n",
       "    </tr>\n",
       "    <tr>\n",
       "      <td>12</td>\n",
       "      <td>천안문 사태 반대 시위</td>\n",
       "      <td>동아시아</td>\n",
       "      <td>홍콩</td>\n",
       "      <td>1989</td>\n",
       "      <td>2.276921</td>\n",
       "      <td>9.97</td>\n",
       "      <td>1984</td>\n",
       "      <td>12.559534</td>\n",
       "      <td>9.642059</td>\n",
       "    </tr>\n",
       "    <tr>\n",
       "      <td>13</td>\n",
       "      <td>우산혁명</td>\n",
       "      <td>동아시아</td>\n",
       "      <td>홍콩</td>\n",
       "      <td>2014</td>\n",
       "      <td>2.762394</td>\n",
       "      <td>4.81</td>\n",
       "      <td>2011</td>\n",
       "      <td>2.850293</td>\n",
       "      <td>3.897902</td>\n",
       "    </tr>\n",
       "    <tr>\n",
       "      <td>14</td>\n",
       "      <td>6월 민주항쟁</td>\n",
       "      <td>동아시아</td>\n",
       "      <td>대한민국</td>\n",
       "      <td>1987</td>\n",
       "      <td>12.467266</td>\n",
       "      <td>8.62</td>\n",
       "      <td>1979</td>\n",
       "      <td>4.948634</td>\n",
       "      <td>18.532455</td>\n",
       "    </tr>\n",
       "    <tr>\n",
       "      <td>15</td>\n",
       "      <td>박근혜 퇴진 운동</td>\n",
       "      <td>동아시아</td>\n",
       "      <td>대한민국</td>\n",
       "      <td>2016</td>\n",
       "      <td>2.929305</td>\n",
       "      <td>2.89</td>\n",
       "      <td>2013</td>\n",
       "      <td>1.977969</td>\n",
       "      <td>0.853334</td>\n",
       "    </tr>\n",
       "    <tr>\n",
       "      <td>16</td>\n",
       "      <td>샤프론 혁명</td>\n",
       "      <td>동아시아</td>\n",
       "      <td>미얀마</td>\n",
       "      <td>2007</td>\n",
       "      <td>11.991435</td>\n",
       "      <td>13.07</td>\n",
       "      <td>2006</td>\n",
       "      <td>23.643908</td>\n",
       "      <td>21.300499</td>\n",
       "    </tr>\n",
       "    <tr>\n",
       "      <td>17</td>\n",
       "      <td>백향목 혁명</td>\n",
       "      <td>중동</td>\n",
       "      <td>레바논</td>\n",
       "      <td>2005</td>\n",
       "      <td>2.748394</td>\n",
       "      <td>3.42</td>\n",
       "      <td>2002</td>\n",
       "      <td>-1.089530</td>\n",
       "      <td>4.921188</td>\n",
       "    </tr>\n",
       "    <tr>\n",
       "      <td>18</td>\n",
       "      <td>터키 반정부 시위</td>\n",
       "      <td>중동</td>\n",
       "      <td>터키</td>\n",
       "      <td>2013</td>\n",
       "      <td>8.491309</td>\n",
       "      <td>7.10</td>\n",
       "      <td>2006</td>\n",
       "      <td>6.268814</td>\n",
       "      <td>9.371704</td>\n",
       "    </tr>\n",
       "    <tr>\n",
       "      <td>19</td>\n",
       "      <td>쟈스민 혁명</td>\n",
       "      <td>중동</td>\n",
       "      <td>튀니지</td>\n",
       "      <td>2010</td>\n",
       "      <td>3.510609</td>\n",
       "      <td>4.23</td>\n",
       "      <td>2008</td>\n",
       "      <td>3.815415</td>\n",
       "      <td>6.346362</td>\n",
       "    </tr>\n",
       "    <tr>\n",
       "      <td>20</td>\n",
       "      <td>이집트 혁명</td>\n",
       "      <td>중동</td>\n",
       "      <td>이집트</td>\n",
       "      <td>2011</td>\n",
       "      <td>1.764572</td>\n",
       "      <td>4.67</td>\n",
       "      <td>2009</td>\n",
       "      <td>11.662976</td>\n",
       "      <td>11.185542</td>\n",
       "    </tr>\n",
       "    <tr>\n",
       "      <td>21</td>\n",
       "      <td>시리아 내전</td>\n",
       "      <td>중동</td>\n",
       "      <td>시리아</td>\n",
       "      <td>2008</td>\n",
       "      <td>3.400000</td>\n",
       "      <td>5.20</td>\n",
       "      <td>2001</td>\n",
       "      <td>11.967172</td>\n",
       "      <td>4.563572</td>\n",
       "    </tr>\n",
       "    <tr>\n",
       "      <td>22</td>\n",
       "      <td>리비아 내전</td>\n",
       "      <td>중동</td>\n",
       "      <td>리비아</td>\n",
       "      <td>2009</td>\n",
       "      <td>-0.790000</td>\n",
       "      <td>4.46</td>\n",
       "      <td>2004</td>\n",
       "      <td>-25.312796</td>\n",
       "      <td>22.605353</td>\n",
       "    </tr>\n",
       "  </tbody>\n",
       "</table>\n",
       "</div>"
      ],
      "text/plain": [
       "                명칭     대륙     국가    연도  당해 GDP 성장율  지난 9년 성장율 중위  기준연도(중위 연도)  \\\n",
       "사례번호                                                                            \n",
       "1     노동법 개정 반대 시위     유럽   이탈리아  2002    0.240000          1.77         2001   \n",
       "2      카탈루냐 분리독립시위     유럽    스페인  2014    1.370000          0.01         2010   \n",
       "3         노란 조끼 시위     유럽    프랑스  2018    1.724881          1.05         2016   \n",
       "4        브렉시트 반대시위     유럽     영국  2019    1.390000          1.78         2016   \n",
       "5             푸른혁명     유럽   불가리아  1989   -3.289882          3.43         1983   \n",
       "6         대선 불복 시위  남아메리카   볼리비아  2019    4.223625          4.85         2015   \n",
       "7        칠레 반정부 시위  남아메리카     칠레  2019    4.024653          2.30         2015   \n",
       "8        마두로 퇴진 운동  남아메리카  베네수엘라  2015   -3.800000          4.17         2011   \n",
       "9           브라질 시위  남아메리카    브라질  2013    3.004823          3.97         2011   \n",
       "10        피플 파워 혁명   동아시아    필리핀  1986   -7.306609          0.83         1977   \n",
       "11       천안문 광장 시위   동아시아     중국  1989    4.185868         10.83         1983   \n",
       "12    천안문 사태 반대 시위   동아시아     홍콩  1989    2.276921          9.97         1984   \n",
       "13            우산혁명   동아시아     홍콩  2014    2.762394          4.81         2011   \n",
       "14         6월 민주항쟁   동아시아   대한민국  1987   12.467266          8.62         1979   \n",
       "15       박근혜 퇴진 운동   동아시아   대한민국  2016    2.929305          2.89         2013   \n",
       "16          샤프론 혁명   동아시아    미얀마  2007   11.991435         13.07         2006   \n",
       "17          백향목 혁명     중동    레바논  2005    2.748394          3.42         2002   \n",
       "18       터키 반정부 시위     중동     터키  2013    8.491309          7.10         2006   \n",
       "19          쟈스민 혁명     중동    튀니지  2010    3.510609          4.23         2008   \n",
       "20          이집트 혁명     중동    이집트  2011    1.764572          4.67         2009   \n",
       "21          시리아 내전     중동    시리아  2008    3.400000          5.20         2001   \n",
       "22          리비아 내전     중동    리비아  2009   -0.790000          4.46         2004   \n",
       "\n",
       "      당해 물가 상승률  기준연도 물가 상승률  \n",
       "사례번호                          \n",
       "1      3.350000     2.980000  \n",
       "2     -0.190000     0.160000  \n",
       "3      0.780000     0.520000  \n",
       "4      1.890000     0.430000  \n",
       "5      6.720000    -0.640000  \n",
       "6      3.056264    -4.620603  \n",
       "7      2.018808     4.953538  \n",
       "8     40.440490    28.149191  \n",
       "9      7.504544     8.318592  \n",
       "10     2.952878     8.272876  \n",
       "11     8.623799     1.097460  \n",
       "12    12.559534     9.642059  \n",
       "13     2.850293     3.897902  \n",
       "14     4.948634    18.532455  \n",
       "15     1.977969     0.853334  \n",
       "16    23.643908    21.300499  \n",
       "17    -1.089530     4.921188  \n",
       "18     6.268814     9.371704  \n",
       "19     3.815415     6.346362  \n",
       "20    11.662976    11.185542  \n",
       "21    11.967172     4.563572  \n",
       "22   -25.312796    22.605353  "
      ]
     },
     "execution_count": 198,
     "metadata": {},
     "output_type": "execute_result"
    }
   ],
   "source": [
    "data.dropna()"
   ]
  },
  {
   "cell_type": "markdown",
   "metadata": {},
   "source": [
    "### e. 고급 기능 (그렇게 어려운 건 아닌)"
   ]
  },
  {
   "cell_type": "markdown",
   "metadata": {},
   "source": [
    "열별 통계치 내기"
   ]
  },
  {
   "cell_type": "code",
   "execution_count": 199,
   "metadata": {},
   "outputs": [
    {
     "data": {
      "text/html": [
       "<div>\n",
       "<style scoped>\n",
       "    .dataframe tbody tr th:only-of-type {\n",
       "        vertical-align: middle;\n",
       "    }\n",
       "\n",
       "    .dataframe tbody tr th {\n",
       "        vertical-align: top;\n",
       "    }\n",
       "\n",
       "    .dataframe thead th {\n",
       "        text-align: right;\n",
       "    }\n",
       "</style>\n",
       "<table border=\"1\" class=\"dataframe\">\n",
       "  <thead>\n",
       "    <tr style=\"text-align: right;\">\n",
       "      <th></th>\n",
       "      <th>연도</th>\n",
       "      <th>당해 GDP 성장율</th>\n",
       "      <th>지난 9년 성장율 중위</th>\n",
       "      <th>기준연도(중위 연도)</th>\n",
       "      <th>당해 물가 상승률</th>\n",
       "      <th>기준연도 물가 상승률</th>\n",
       "    </tr>\n",
       "  </thead>\n",
       "  <tbody>\n",
       "    <tr>\n",
       "      <td>count</td>\n",
       "      <td>22.000000</td>\n",
       "      <td>22.000000</td>\n",
       "      <td>22.000000</td>\n",
       "      <td>22.000000</td>\n",
       "      <td>22.000000</td>\n",
       "      <td>22.000000</td>\n",
       "    </tr>\n",
       "    <tr>\n",
       "      <td>mean</td>\n",
       "      <td>2006.909091</td>\n",
       "      <td>2.605435</td>\n",
       "      <td>4.701364</td>\n",
       "      <td>2002.772727</td>\n",
       "      <td>5.929053</td>\n",
       "      <td>7.401865</td>\n",
       "    </tr>\n",
       "    <tr>\n",
       "      <td>std</td>\n",
       "      <td>11.422239</td>\n",
       "      <td>4.496761</td>\n",
       "      <td>3.363707</td>\n",
       "      <td>12.850539</td>\n",
       "      <td>11.554826</td>\n",
       "      <td>8.442732</td>\n",
       "    </tr>\n",
       "    <tr>\n",
       "      <td>min</td>\n",
       "      <td>1986.000000</td>\n",
       "      <td>-7.306609</td>\n",
       "      <td>0.010000</td>\n",
       "      <td>1977.000000</td>\n",
       "      <td>-25.312796</td>\n",
       "      <td>-4.620603</td>\n",
       "    </tr>\n",
       "    <tr>\n",
       "      <td>25%</td>\n",
       "      <td>2002.750000</td>\n",
       "      <td>1.375000</td>\n",
       "      <td>2.447500</td>\n",
       "      <td>2001.000000</td>\n",
       "      <td>1.988178</td>\n",
       "      <td>0.914365</td>\n",
       "    </tr>\n",
       "    <tr>\n",
       "      <td>50%</td>\n",
       "      <td>2010.500000</td>\n",
       "      <td>2.755394</td>\n",
       "      <td>4.200000</td>\n",
       "      <td>2007.000000</td>\n",
       "      <td>3.582707</td>\n",
       "      <td>4.937363</td>\n",
       "    </tr>\n",
       "    <tr>\n",
       "      <td>75%</td>\n",
       "      <td>2014.750000</td>\n",
       "      <td>3.896142</td>\n",
       "      <td>5.112500</td>\n",
       "      <td>2011.000000</td>\n",
       "      <td>8.343985</td>\n",
       "      <td>9.574470</td>\n",
       "    </tr>\n",
       "    <tr>\n",
       "      <td>max</td>\n",
       "      <td>2019.000000</td>\n",
       "      <td>12.467266</td>\n",
       "      <td>13.070000</td>\n",
       "      <td>2016.000000</td>\n",
       "      <td>40.440490</td>\n",
       "      <td>28.149191</td>\n",
       "    </tr>\n",
       "  </tbody>\n",
       "</table>\n",
       "</div>"
      ],
      "text/plain": [
       "                연도  당해 GDP 성장율  지난 9년 성장율 중위  기준연도(중위 연도)  당해 물가 상승률  \\\n",
       "count    22.000000   22.000000     22.000000    22.000000  22.000000   \n",
       "mean   2006.909091    2.605435      4.701364  2002.772727   5.929053   \n",
       "std      11.422239    4.496761      3.363707    12.850539  11.554826   \n",
       "min    1986.000000   -7.306609      0.010000  1977.000000 -25.312796   \n",
       "25%    2002.750000    1.375000      2.447500  2001.000000   1.988178   \n",
       "50%    2010.500000    2.755394      4.200000  2007.000000   3.582707   \n",
       "75%    2014.750000    3.896142      5.112500  2011.000000   8.343985   \n",
       "max    2019.000000   12.467266     13.070000  2016.000000  40.440490   \n",
       "\n",
       "       기준연도 물가 상승률  \n",
       "count    22.000000  \n",
       "mean      7.401865  \n",
       "std       8.442732  \n",
       "min      -4.620603  \n",
       "25%       0.914365  \n",
       "50%       4.937363  \n",
       "75%       9.574470  \n",
       "max      28.149191  "
      ]
     },
     "execution_count": 199,
     "metadata": {},
     "output_type": "execute_result"
    }
   ],
   "source": [
    "data.describe()"
   ]
  },
  {
   "cell_type": "markdown",
   "metadata": {},
   "source": [
    "열별 상관계수 행렬"
   ]
  },
  {
   "cell_type": "code",
   "execution_count": 200,
   "metadata": {},
   "outputs": [
    {
     "data": {
      "text/html": [
       "<div>\n",
       "<style scoped>\n",
       "    .dataframe tbody tr th:only-of-type {\n",
       "        vertical-align: middle;\n",
       "    }\n",
       "\n",
       "    .dataframe tbody tr th {\n",
       "        vertical-align: top;\n",
       "    }\n",
       "\n",
       "    .dataframe thead th {\n",
       "        text-align: right;\n",
       "    }\n",
       "</style>\n",
       "<table border=\"1\" class=\"dataframe\">\n",
       "  <thead>\n",
       "    <tr style=\"text-align: right;\">\n",
       "      <th></th>\n",
       "      <th>연도</th>\n",
       "      <th>당해 GDP 성장율</th>\n",
       "      <th>지난 9년 성장율 중위</th>\n",
       "      <th>기준연도(중위 연도)</th>\n",
       "      <th>당해 물가 상승률</th>\n",
       "      <th>기준연도 물가 상승률</th>\n",
       "    </tr>\n",
       "  </thead>\n",
       "  <tbody>\n",
       "    <tr>\n",
       "      <td>연도</td>\n",
       "      <td>1.000000</td>\n",
       "      <td>0.086597</td>\n",
       "      <td>-0.382389</td>\n",
       "      <td>0.989659</td>\n",
       "      <td>-0.040326</td>\n",
       "      <td>-0.118638</td>\n",
       "    </tr>\n",
       "    <tr>\n",
       "      <td>당해 GDP 성장율</td>\n",
       "      <td>0.086597</td>\n",
       "      <td>1.000000</td>\n",
       "      <td>0.644238</td>\n",
       "      <td>0.095152</td>\n",
       "      <td>0.072741</td>\n",
       "      <td>0.122083</td>\n",
       "    </tr>\n",
       "    <tr>\n",
       "      <td>지난 9년 성장율 중위</td>\n",
       "      <td>-0.382389</td>\n",
       "      <td>0.644238</td>\n",
       "      <td>1.000000</td>\n",
       "      <td>-0.360946</td>\n",
       "      <td>0.356173</td>\n",
       "      <td>0.401516</td>\n",
       "    </tr>\n",
       "    <tr>\n",
       "      <td>기준연도(중위 연도)</td>\n",
       "      <td>0.989659</td>\n",
       "      <td>0.095152</td>\n",
       "      <td>-0.360946</td>\n",
       "      <td>1.000000</td>\n",
       "      <td>-0.021501</td>\n",
       "      <td>-0.119748</td>\n",
       "    </tr>\n",
       "    <tr>\n",
       "      <td>당해 물가 상승률</td>\n",
       "      <td>-0.040326</td>\n",
       "      <td>0.072741</td>\n",
       "      <td>0.356173</td>\n",
       "      <td>-0.021501</td>\n",
       "      <td>1.000000</td>\n",
       "      <td>0.337612</td>\n",
       "    </tr>\n",
       "    <tr>\n",
       "      <td>기준연도 물가 상승률</td>\n",
       "      <td>-0.118638</td>\n",
       "      <td>0.122083</td>\n",
       "      <td>0.401516</td>\n",
       "      <td>-0.119748</td>\n",
       "      <td>0.337612</td>\n",
       "      <td>1.000000</td>\n",
       "    </tr>\n",
       "  </tbody>\n",
       "</table>\n",
       "</div>"
      ],
      "text/plain": [
       "                    연도  당해 GDP 성장율  지난 9년 성장율 중위  기준연도(중위 연도)  당해 물가 상승률  \\\n",
       "연도            1.000000    0.086597     -0.382389     0.989659  -0.040326   \n",
       "당해 GDP 성장율    0.086597    1.000000      0.644238     0.095152   0.072741   \n",
       "지난 9년 성장율 중위 -0.382389    0.644238      1.000000    -0.360946   0.356173   \n",
       "기준연도(중위 연도)   0.989659    0.095152     -0.360946     1.000000  -0.021501   \n",
       "당해 물가 상승률    -0.040326    0.072741      0.356173    -0.021501   1.000000   \n",
       "기준연도 물가 상승률  -0.118638    0.122083      0.401516    -0.119748   0.337612   \n",
       "\n",
       "              기준연도 물가 상승률  \n",
       "연도              -0.118638  \n",
       "당해 GDP 성장율       0.122083  \n",
       "지난 9년 성장율 중위     0.401516  \n",
       "기준연도(중위 연도)     -0.119748  \n",
       "당해 물가 상승률        0.337612  \n",
       "기준연도 물가 상승률      1.000000  "
      ]
     },
     "execution_count": 200,
     "metadata": {},
     "output_type": "execute_result"
    }
   ],
   "source": [
    "data.corr()"
   ]
  },
  {
   "cell_type": "markdown",
   "metadata": {},
   "source": [
    ".apply 메서드\n",
    "- 시리즈에 적용함으로써 시리즈의 원소를 함수에 넣은 결과값을 반환 해줌  \n",
    "데이터프레임.apply(함수) 의 형태"
   ]
  },
  {
   "cell_type": "code",
   "execution_count": 201,
   "metadata": {},
   "outputs": [
    {
     "data": {
      "text/plain": [
       "사례번호\n",
       "1      0.240000\n",
       "2      1.370000\n",
       "3      1.724881\n",
       "4      1.390000\n",
       "5     -3.289882\n",
       "6      4.223625\n",
       "7      4.024653\n",
       "8     -3.800000\n",
       "9      3.004823\n",
       "10    -7.306609\n",
       "11     4.185868\n",
       "12     2.276921\n",
       "13     2.762394\n",
       "14    12.467266\n",
       "15     2.929305\n",
       "16    11.991435\n",
       "17     2.748394\n",
       "18     8.491309\n",
       "19     3.510609\n",
       "20     1.764572\n",
       "21     3.400000\n",
       "22    -0.790000\n",
       "Name: 당해 GDP 성장율, dtype: float64"
      ]
     },
     "execution_count": 201,
     "metadata": {},
     "output_type": "execute_result"
    }
   ],
   "source": [
    "data[\"당해 GDP 성장율\"]"
   ]
  },
  {
   "cell_type": "code",
   "execution_count": 202,
   "metadata": {},
   "outputs": [],
   "source": [
    "def apply_function(x) :\n",
    "    if x > 3 : return(\"호황\")\n",
    "    else : return(\"불황\")"
   ]
  },
  {
   "cell_type": "code",
   "execution_count": 204,
   "metadata": {},
   "outputs": [
    {
     "data": {
      "text/plain": [
       "사례번호\n",
       "1     불황\n",
       "2     불황\n",
       "3     불황\n",
       "4     불황\n",
       "5     불황\n",
       "6     호황\n",
       "7     호황\n",
       "8     불황\n",
       "9     호황\n",
       "10    불황\n",
       "11    호황\n",
       "12    불황\n",
       "13    불황\n",
       "14    호황\n",
       "15    불황\n",
       "16    호황\n",
       "17    불황\n",
       "18    호황\n",
       "19    호황\n",
       "20    불황\n",
       "21    호황\n",
       "22    불황\n",
       "Name: 당해 GDP 성장율, dtype: object"
      ]
     },
     "execution_count": 204,
     "metadata": {},
     "output_type": "execute_result"
    }
   ],
   "source": [
    "data[\"당해 GDP 성장율\"].apply(apply_function)"
   ]
  },
  {
   "cell_type": "markdown",
   "metadata": {},
   "source": [
    "lambda 함수와 조합 하면 더 편하게 할 수 있음"
   ]
  },
  {
   "cell_type": "code",
   "execution_count": 207,
   "metadata": {},
   "outputs": [
    {
     "data": {
      "text/plain": [
       "사례번호\n",
       "1      3.240000\n",
       "2      4.370000\n",
       "3      4.724881\n",
       "4      4.390000\n",
       "5     -0.289882\n",
       "6      7.223625\n",
       "7      7.024653\n",
       "8     -0.800000\n",
       "9      6.004823\n",
       "10    -4.306609\n",
       "11     7.185868\n",
       "12     5.276921\n",
       "13     5.762394\n",
       "14    15.467266\n",
       "15     5.929305\n",
       "16    14.991435\n",
       "17     5.748394\n",
       "18    11.491309\n",
       "19     6.510609\n",
       "20     4.764572\n",
       "21     6.400000\n",
       "22     2.210000\n",
       "Name: 당해 GDP 성장율, dtype: float64"
      ]
     },
     "execution_count": 207,
     "metadata": {},
     "output_type": "execute_result"
    }
   ],
   "source": [
    "data[\"당해 GDP 성장율\"].apply(lambda x : x+3)"
   ]
  },
  {
   "cell_type": "code",
   "execution_count": 206,
   "metadata": {},
   "outputs": [
    {
     "data": {
      "text/plain": [
       "사례번호\n",
       "1     불황\n",
       "2     불황\n",
       "3     불황\n",
       "4     불황\n",
       "5     불황\n",
       "6     호황\n",
       "7     호황\n",
       "8     불황\n",
       "9     호황\n",
       "10    불황\n",
       "11    호황\n",
       "12    불황\n",
       "13    불황\n",
       "14    호황\n",
       "15    불황\n",
       "16    호황\n",
       "17    불황\n",
       "18    호황\n",
       "19    호황\n",
       "20    불황\n",
       "21    호황\n",
       "22    불황\n",
       "Name: 당해 GDP 성장율, dtype: object"
      ]
     },
     "execution_count": 206,
     "metadata": {},
     "output_type": "execute_result"
    }
   ],
   "source": [
    "data[\"당해 GDP 성장율\"].apply(lambda x : \"호황\" if x > 3 else \"불황\")"
   ]
  },
  {
   "cell_type": "markdown",
   "metadata": {},
   "source": [
    "데이터 프레임의 apply 메서드 들\n",
    "- apply : 열 기준 혹은 행 기준\n",
    "- applymap : 원소 기준"
   ]
  },
  {
   "cell_type": "code",
   "execution_count": 223,
   "metadata": {},
   "outputs": [
    {
     "data": {
      "text/html": [
       "<div>\n",
       "<style scoped>\n",
       "    .dataframe tbody tr th:only-of-type {\n",
       "        vertical-align: middle;\n",
       "    }\n",
       "\n",
       "    .dataframe tbody tr th {\n",
       "        vertical-align: top;\n",
       "    }\n",
       "\n",
       "    .dataframe thead th {\n",
       "        text-align: right;\n",
       "    }\n",
       "</style>\n",
       "<table border=\"1\" class=\"dataframe\">\n",
       "  <thead>\n",
       "    <tr style=\"text-align: right;\">\n",
       "      <th></th>\n",
       "      <th>당해 GDP 성장율</th>\n",
       "      <th>지난 9년 성장율 중위</th>\n",
       "      <th>기준연도(중위 연도)</th>\n",
       "      <th>당해 물가 상승률</th>\n",
       "      <th>기준연도 물가 상승률</th>\n",
       "    </tr>\n",
       "    <tr>\n",
       "      <th>사례번호</th>\n",
       "      <th></th>\n",
       "      <th></th>\n",
       "      <th></th>\n",
       "      <th></th>\n",
       "      <th></th>\n",
       "    </tr>\n",
       "  </thead>\n",
       "  <tbody>\n",
       "    <tr>\n",
       "      <td>1</td>\n",
       "      <td>0.240000</td>\n",
       "      <td>1.77</td>\n",
       "      <td>2001</td>\n",
       "      <td>3.35</td>\n",
       "      <td>2.98</td>\n",
       "    </tr>\n",
       "    <tr>\n",
       "      <td>2</td>\n",
       "      <td>1.370000</td>\n",
       "      <td>0.01</td>\n",
       "      <td>2010</td>\n",
       "      <td>-0.19</td>\n",
       "      <td>0.16</td>\n",
       "    </tr>\n",
       "    <tr>\n",
       "      <td>3</td>\n",
       "      <td>1.724881</td>\n",
       "      <td>1.05</td>\n",
       "      <td>2016</td>\n",
       "      <td>0.78</td>\n",
       "      <td>0.52</td>\n",
       "    </tr>\n",
       "    <tr>\n",
       "      <td>4</td>\n",
       "      <td>1.390000</td>\n",
       "      <td>1.78</td>\n",
       "      <td>2016</td>\n",
       "      <td>1.89</td>\n",
       "      <td>0.43</td>\n",
       "    </tr>\n",
       "    <tr>\n",
       "      <td>5</td>\n",
       "      <td>-3.289882</td>\n",
       "      <td>3.43</td>\n",
       "      <td>1983</td>\n",
       "      <td>6.72</td>\n",
       "      <td>-0.64</td>\n",
       "    </tr>\n",
       "  </tbody>\n",
       "</table>\n",
       "</div>"
      ],
      "text/plain": [
       "      당해 GDP 성장율  지난 9년 성장율 중위  기준연도(중위 연도)  당해 물가 상승률  기준연도 물가 상승률\n",
       "사례번호                                                               \n",
       "1       0.240000          1.77         2001       3.35         2.98\n",
       "2       1.370000          0.01         2010      -0.19         0.16\n",
       "3       1.724881          1.05         2016       0.78         0.52\n",
       "4       1.390000          1.78         2016       1.89         0.43\n",
       "5      -3.289882          3.43         1983       6.72        -0.64"
      ]
     },
     "execution_count": 223,
     "metadata": {},
     "output_type": "execute_result"
    }
   ],
   "source": [
    "data.iloc[:,4:].head()"
   ]
  },
  {
   "cell_type": "code",
   "execution_count": 220,
   "metadata": {},
   "outputs": [
    {
     "data": {
      "text/plain": [
       "당해 GDP 성장율         57.319564\n",
       "지난 9년 성장율 중위      103.430000\n",
       "기준연도(중위 연도)     44061.000000\n",
       "당해 물가 상승률         130.439173\n",
       "기준연도 물가 상승률       162.841023\n",
       "dtype: float64"
      ]
     },
     "execution_count": 220,
     "metadata": {},
     "output_type": "execute_result"
    }
   ],
   "source": [
    "data.iloc[:,4:].apply(lambda x : sum(x))\n",
    "# 행들의 합 반환"
   ]
  },
  {
   "cell_type": "code",
   "execution_count": 221,
   "metadata": {},
   "outputs": [
    {
     "data": {
      "text/plain": [
       "사례번호\n",
       "1     2009.340000\n",
       "2     2011.350000\n",
       "3     2020.074881\n",
       "4     2021.490000\n",
       "5     1989.220118\n",
       "6     2022.509285\n",
       "7     2028.296999\n",
       "8     2079.959681\n",
       "9     2033.797959\n",
       "10    1981.749145\n",
       "11    2007.737127\n",
       "12    2018.448514\n",
       "13    2025.320589\n",
       "14    2023.568355\n",
       "15    2021.650607\n",
       "16    2076.005842\n",
       "17    2012.000052\n",
       "18    2037.231827\n",
       "19    2025.902385\n",
       "20    2038.283091\n",
       "21    2026.130744\n",
       "22    2004.962557\n",
       "dtype: float64"
      ]
     },
     "execution_count": 221,
     "metadata": {},
     "output_type": "execute_result"
    }
   ],
   "source": [
    "data.iloc[:,4:].apply(lambda x : sum(x),axis=1)\n",
    "# 열들의 합 반환"
   ]
  },
  {
   "cell_type": "code",
   "execution_count": 225,
   "metadata": {},
   "outputs": [
    {
     "data": {
      "text/html": [
       "<div>\n",
       "<style scoped>\n",
       "    .dataframe tbody tr th:only-of-type {\n",
       "        vertical-align: middle;\n",
       "    }\n",
       "\n",
       "    .dataframe tbody tr th {\n",
       "        vertical-align: top;\n",
       "    }\n",
       "\n",
       "    .dataframe thead th {\n",
       "        text-align: right;\n",
       "    }\n",
       "</style>\n",
       "<table border=\"1\" class=\"dataframe\">\n",
       "  <thead>\n",
       "    <tr style=\"text-align: right;\">\n",
       "      <th></th>\n",
       "      <th>당해 GDP 성장율</th>\n",
       "      <th>지난 9년 성장율 중위</th>\n",
       "      <th>기준연도(중위 연도)</th>\n",
       "      <th>당해 물가 상승률</th>\n",
       "      <th>기준연도 물가 상승률</th>\n",
       "    </tr>\n",
       "    <tr>\n",
       "      <th>사례번호</th>\n",
       "      <th></th>\n",
       "      <th></th>\n",
       "      <th></th>\n",
       "      <th></th>\n",
       "      <th></th>\n",
       "    </tr>\n",
       "  </thead>\n",
       "  <tbody>\n",
       "    <tr>\n",
       "      <td>1</td>\n",
       "      <td>0.0</td>\n",
       "      <td>0.0</td>\n",
       "      <td>0</td>\n",
       "      <td>0.0</td>\n",
       "      <td>0.0</td>\n",
       "    </tr>\n",
       "    <tr>\n",
       "      <td>2</td>\n",
       "      <td>0.0</td>\n",
       "      <td>0.0</td>\n",
       "      <td>0</td>\n",
       "      <td>-0.0</td>\n",
       "      <td>0.0</td>\n",
       "    </tr>\n",
       "    <tr>\n",
       "      <td>3</td>\n",
       "      <td>0.0</td>\n",
       "      <td>0.0</td>\n",
       "      <td>0</td>\n",
       "      <td>0.0</td>\n",
       "      <td>0.0</td>\n",
       "    </tr>\n",
       "    <tr>\n",
       "      <td>4</td>\n",
       "      <td>0.0</td>\n",
       "      <td>0.0</td>\n",
       "      <td>0</td>\n",
       "      <td>0.0</td>\n",
       "      <td>0.0</td>\n",
       "    </tr>\n",
       "    <tr>\n",
       "      <td>5</td>\n",
       "      <td>-0.0</td>\n",
       "      <td>0.0</td>\n",
       "      <td>0</td>\n",
       "      <td>0.0</td>\n",
       "      <td>-0.0</td>\n",
       "    </tr>\n",
       "    <tr>\n",
       "      <td>6</td>\n",
       "      <td>0.0</td>\n",
       "      <td>0.0</td>\n",
       "      <td>0</td>\n",
       "      <td>0.0</td>\n",
       "      <td>-0.0</td>\n",
       "    </tr>\n",
       "    <tr>\n",
       "      <td>7</td>\n",
       "      <td>0.0</td>\n",
       "      <td>0.0</td>\n",
       "      <td>0</td>\n",
       "      <td>0.0</td>\n",
       "      <td>0.0</td>\n",
       "    </tr>\n",
       "    <tr>\n",
       "      <td>8</td>\n",
       "      <td>-0.0</td>\n",
       "      <td>0.0</td>\n",
       "      <td>0</td>\n",
       "      <td>0.0</td>\n",
       "      <td>0.0</td>\n",
       "    </tr>\n",
       "    <tr>\n",
       "      <td>9</td>\n",
       "      <td>0.0</td>\n",
       "      <td>0.0</td>\n",
       "      <td>0</td>\n",
       "      <td>0.0</td>\n",
       "      <td>0.0</td>\n",
       "    </tr>\n",
       "    <tr>\n",
       "      <td>10</td>\n",
       "      <td>-0.0</td>\n",
       "      <td>0.0</td>\n",
       "      <td>0</td>\n",
       "      <td>0.0</td>\n",
       "      <td>0.0</td>\n",
       "    </tr>\n",
       "    <tr>\n",
       "      <td>11</td>\n",
       "      <td>0.0</td>\n",
       "      <td>0.0</td>\n",
       "      <td>0</td>\n",
       "      <td>0.0</td>\n",
       "      <td>0.0</td>\n",
       "    </tr>\n",
       "    <tr>\n",
       "      <td>12</td>\n",
       "      <td>0.0</td>\n",
       "      <td>0.0</td>\n",
       "      <td>0</td>\n",
       "      <td>0.0</td>\n",
       "      <td>0.0</td>\n",
       "    </tr>\n",
       "    <tr>\n",
       "      <td>13</td>\n",
       "      <td>0.0</td>\n",
       "      <td>0.0</td>\n",
       "      <td>0</td>\n",
       "      <td>0.0</td>\n",
       "      <td>0.0</td>\n",
       "    </tr>\n",
       "    <tr>\n",
       "      <td>14</td>\n",
       "      <td>0.0</td>\n",
       "      <td>0.0</td>\n",
       "      <td>0</td>\n",
       "      <td>0.0</td>\n",
       "      <td>0.0</td>\n",
       "    </tr>\n",
       "    <tr>\n",
       "      <td>15</td>\n",
       "      <td>0.0</td>\n",
       "      <td>0.0</td>\n",
       "      <td>0</td>\n",
       "      <td>0.0</td>\n",
       "      <td>0.0</td>\n",
       "    </tr>\n",
       "    <tr>\n",
       "      <td>16</td>\n",
       "      <td>0.0</td>\n",
       "      <td>0.0</td>\n",
       "      <td>0</td>\n",
       "      <td>0.0</td>\n",
       "      <td>0.0</td>\n",
       "    </tr>\n",
       "    <tr>\n",
       "      <td>17</td>\n",
       "      <td>0.0</td>\n",
       "      <td>0.0</td>\n",
       "      <td>0</td>\n",
       "      <td>-0.0</td>\n",
       "      <td>0.0</td>\n",
       "    </tr>\n",
       "    <tr>\n",
       "      <td>18</td>\n",
       "      <td>0.0</td>\n",
       "      <td>0.0</td>\n",
       "      <td>0</td>\n",
       "      <td>0.0</td>\n",
       "      <td>0.0</td>\n",
       "    </tr>\n",
       "    <tr>\n",
       "      <td>19</td>\n",
       "      <td>0.0</td>\n",
       "      <td>0.0</td>\n",
       "      <td>0</td>\n",
       "      <td>0.0</td>\n",
       "      <td>0.0</td>\n",
       "    </tr>\n",
       "    <tr>\n",
       "      <td>20</td>\n",
       "      <td>0.0</td>\n",
       "      <td>0.0</td>\n",
       "      <td>0</td>\n",
       "      <td>0.0</td>\n",
       "      <td>0.0</td>\n",
       "    </tr>\n",
       "    <tr>\n",
       "      <td>21</td>\n",
       "      <td>0.0</td>\n",
       "      <td>0.0</td>\n",
       "      <td>0</td>\n",
       "      <td>0.0</td>\n",
       "      <td>0.0</td>\n",
       "    </tr>\n",
       "    <tr>\n",
       "      <td>22</td>\n",
       "      <td>-0.0</td>\n",
       "      <td>0.0</td>\n",
       "      <td>0</td>\n",
       "      <td>-0.0</td>\n",
       "      <td>0.0</td>\n",
       "    </tr>\n",
       "  </tbody>\n",
       "</table>\n",
       "</div>"
      ],
      "text/plain": [
       "      당해 GDP 성장율  지난 9년 성장율 중위  기준연도(중위 연도)  당해 물가 상승률  기준연도 물가 상승률\n",
       "사례번호                                                               \n",
       "1            0.0           0.0            0        0.0          0.0\n",
       "2            0.0           0.0            0       -0.0          0.0\n",
       "3            0.0           0.0            0        0.0          0.0\n",
       "4            0.0           0.0            0        0.0          0.0\n",
       "5           -0.0           0.0            0        0.0         -0.0\n",
       "6            0.0           0.0            0        0.0         -0.0\n",
       "7            0.0           0.0            0        0.0          0.0\n",
       "8           -0.0           0.0            0        0.0          0.0\n",
       "9            0.0           0.0            0        0.0          0.0\n",
       "10          -0.0           0.0            0        0.0          0.0\n",
       "11           0.0           0.0            0        0.0          0.0\n",
       "12           0.0           0.0            0        0.0          0.0\n",
       "13           0.0           0.0            0        0.0          0.0\n",
       "14           0.0           0.0            0        0.0          0.0\n",
       "15           0.0           0.0            0        0.0          0.0\n",
       "16           0.0           0.0            0        0.0          0.0\n",
       "17           0.0           0.0            0       -0.0          0.0\n",
       "18           0.0           0.0            0        0.0          0.0\n",
       "19           0.0           0.0            0        0.0          0.0\n",
       "20           0.0           0.0            0        0.0          0.0\n",
       "21           0.0           0.0            0        0.0          0.0\n",
       "22          -0.0           0.0            0       -0.0          0.0"
      ]
     },
     "execution_count": 225,
     "metadata": {},
     "output_type": "execute_result"
    }
   ],
   "source": [
    "data.iloc[:,4:].applymap(lambda x : x*0)\n",
    "# 모든 원소에 해당 연산 제공"
   ]
  },
  {
   "cell_type": "code",
   "execution_count": null,
   "metadata": {},
   "outputs": [],
   "source": []
  }
 ],
 "metadata": {
  "kernelspec": {
   "display_name": "Python 3",
   "language": "python",
   "name": "python3"
  },
  "language_info": {
   "codemirror_mode": {
    "name": "ipython",
    "version": 3
   },
   "file_extension": ".py",
   "mimetype": "text/x-python",
   "name": "python",
   "nbconvert_exporter": "python",
   "pygments_lexer": "ipython3",
   "version": "3.7.4"
  }
 },
 "nbformat": 4,
 "nbformat_minor": 2
}
